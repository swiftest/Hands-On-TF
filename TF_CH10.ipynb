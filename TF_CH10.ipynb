{
 "cells": [
  {
   "cell_type": "markdown",
   "metadata": {},
   "source": [
    "# Keras人工神经网络简介"
   ]
  },
  {
   "cell_type": "code",
   "execution_count": 1,
   "metadata": {},
   "outputs": [],
   "source": [
    "import tensorflow as tf\n",
    "from tensorflow import keras"
   ]
  },
  {
   "cell_type": "code",
   "execution_count": 2,
   "metadata": {},
   "outputs": [],
   "source": [
    "%matplotlib inline\n",
    "import matplotlib.pyplot as plt\n",
    "import matplotlib as mpl\n",
    "import numpy as np"
   ]
  },
  {
   "cell_type": "code",
   "execution_count": 3,
   "metadata": {},
   "outputs": [
    {
     "data": {
      "text/plain": [
       "'2.3.1'"
      ]
     },
     "execution_count": 3,
     "metadata": {},
     "output_type": "execute_result"
    }
   ],
   "source": [
    "tf.__version__"
   ]
  },
  {
   "cell_type": "code",
   "execution_count": 4,
   "metadata": {},
   "outputs": [
    {
     "data": {
      "text/plain": [
       "'2.4.0'"
      ]
     },
     "execution_count": 4,
     "metadata": {},
     "output_type": "execute_result"
    }
   ],
   "source": [
    "keras.__version__"
   ]
  },
  {
   "cell_type": "code",
   "execution_count": 5,
   "metadata": {},
   "outputs": [],
   "source": [
    "from sklearn.datasets import load_iris\n",
    "from sklearn.linear_model import Perceptron"
   ]
  },
  {
   "cell_type": "code",
   "execution_count": 6,
   "metadata": {},
   "outputs": [],
   "source": [
    "iris = load_iris()\n",
    "X = iris.data[:, (2, 3)]\n",
    "y = (iris.target == 0).astype(np.int)"
   ]
  },
  {
   "cell_type": "code",
   "execution_count": 7,
   "metadata": {},
   "outputs": [
    {
     "data": {
      "text/plain": [
       "Perceptron()"
      ]
     },
     "execution_count": 7,
     "metadata": {},
     "output_type": "execute_result"
    }
   ],
   "source": [
    "per_clf = Perceptron()\n",
    "per_clf.fit(X, y)"
   ]
  },
  {
   "cell_type": "code",
   "execution_count": 8,
   "metadata": {},
   "outputs": [
    {
     "data": {
      "text/plain": [
       "array([0])"
      ]
     },
     "execution_count": 8,
     "metadata": {},
     "output_type": "execute_result"
    }
   ],
   "source": [
    "y_pred = per_clf.predict([[2, 0.5]])\n",
    "y_pred"
   ]
  },
  {
   "cell_type": "markdown",
   "metadata": {},
   "source": [
    "## 使用顺序API构建图像分类器"
   ]
  },
  {
   "cell_type": "code",
   "execution_count": 9,
   "metadata": {},
   "outputs": [],
   "source": [
    "fashion_mnist = keras.datasets.fashion_mnist\n",
    "(X_train_full, y_train_full), (X_test, y_test) = fashion_mnist.load_data()"
   ]
  },
  {
   "cell_type": "code",
   "execution_count": 10,
   "metadata": {},
   "outputs": [
    {
     "data": {
      "text/plain": [
       "(60000, 28, 28)"
      ]
     },
     "execution_count": 10,
     "metadata": {},
     "output_type": "execute_result"
    }
   ],
   "source": [
    "X_train_full.shape    # 训练集的形状和数据类型"
   ]
  },
  {
   "cell_type": "code",
   "execution_count": 11,
   "metadata": {},
   "outputs": [
    {
     "data": {
      "text/plain": [
       "dtype('uint8')"
      ]
     },
     "execution_count": 11,
     "metadata": {},
     "output_type": "execute_result"
    }
   ],
   "source": [
    "X_train_full.dtype    # 训练集的数据类型"
   ]
  },
  {
   "cell_type": "code",
   "execution_count": 12,
   "metadata": {},
   "outputs": [],
   "source": [
    "X_valid, X_train = X_train_full[:5000] / 255.0, X_train_full[5000:] / 255.0\n",
    "y_valid, y_train = y_train_full[:5000], y_train_full[5000:]"
   ]
  },
  {
   "cell_type": "code",
   "execution_count": 13,
   "metadata": {},
   "outputs": [],
   "source": [
    "class_names = [\"T-shirt/top\", \"Trouser\", \"Pullover\", \"Dress\", \"Coat\", \n",
    "               \"Sandal\", \"Shirt\", \"Sneaker\", \"Bag\", \"Ankle boot\"]"
   ]
  },
  {
   "cell_type": "code",
   "execution_count": 14,
   "metadata": {},
   "outputs": [
    {
     "data": {
      "image/png": "[encoded data removed]",
      "text/plain": [
       "<Figure size 432x288 with 1 Axes>"
      ]
     },
     "metadata": {
      "needs_background": "light"
     },
     "output_type": "display_data"
    }
   ],
   "source": [
    "plt.imshow(X_train[0], cmap=\"binary\")\n",
    "plt.axis('off')\n",
    "plt.show()"
   ]
  },
  {
   "cell_type": "markdown",
   "metadata": {},
   "source": [
    "The labels are the class IDs (represented as uint8), from 0 to 9:"
   ]
  },
  {
   "cell_type": "code",
   "execution_count": 15,
   "metadata": {},
   "outputs": [
    {
     "data": {
      "text/plain": [
       "array([4, 0, 7, ..., 3, 0, 5], dtype=uint8)"
      ]
     },
     "execution_count": 15,
     "metadata": {},
     "output_type": "execute_result"
    }
   ],
   "source": [
    "y_train"
   ]
  },
  {
   "cell_type": "code",
   "execution_count": 16,
   "metadata": {},
   "outputs": [
    {
     "data": {
      "text/plain": [
       "'Coat'"
      ]
     },
     "execution_count": 16,
     "metadata": {},
     "output_type": "execute_result"
    }
   ],
   "source": [
    "class_names[y_train[0]]"
   ]
  },
  {
   "cell_type": "code",
   "execution_count": 17,
   "metadata": {},
   "outputs": [
    {
     "data": {
      "image/png": "[encoded data removed]",
      "text/plain": [
       "<Figure size 864x345.6 with 40 Axes>"
      ]
     },
     "metadata": {
      "needs_background": "light"
     },
     "output_type": "display_data"
    }
   ],
   "source": [
    "n_rows = 4\n",
    "n_cols = 10\n",
    "plt.figure(figsize=(n_cols * 1.2, n_rows * 1.2))\n",
    "for row in range(n_rows):\n",
    "    for col in range(n_cols):\n",
    "        index = n_cols * row + col\n",
    "        plt.subplot(n_rows, n_cols, index + 1)\n",
    "        plt.imshow(X_train[index], cmap=\"binary\", interpolation=\"nearest\")\n",
    "        plt.axis('off')\n",
    "        plt.title(class_names[y_train[index]], fontsize=12)\n",
    "plt.subplots_adjust(wspace=0.2, hspace=0.5)\n",
    "plt.show()"
   ]
  },
  {
   "cell_type": "code",
   "execution_count": 18,
   "metadata": {},
   "outputs": [],
   "source": [
    "model = keras.models.Sequential()\n",
    "model.add(keras.layers.Flatten(input_shape=[28, 28]))\n",
    "model.add(keras.layers.Dense(300, activation=\"relu\"))\n",
    "model.add(keras.layers.Dense(100, activation=\"relu\"))\n",
    "model.add(keras.layers.Dense(10, activation=\"softmax\"))"
   ]
  },
  {
   "cell_type": "code",
   "execution_count": 19,
   "metadata": {},
   "outputs": [],
   "source": [
    "keras.backend.clear_session()\n",
    "np.random.seed(42)\n",
    "tf.random.set_seed(42)"
   ]
  },
  {
   "cell_type": "code",
   "execution_count": 20,
   "metadata": {},
   "outputs": [],
   "source": [
    "# 仅由顺序连接的单层堆栈组成\n",
    "model = keras.models.Sequential([\n",
    "    keras.layers.Flatten(input_shape=[28, 28]),\n",
    "    keras.layers.Dense(300, activation=\"relu\"),\n",
    "    keras.layers.Dense(100, activation=\"relu\"),\n",
    "    keras.layers.Dense(10, activation=\"softmax\")\n",
    "])"
   ]
  },
  {
   "cell_type": "code",
   "execution_count": 21,
   "metadata": {},
   "outputs": [
    {
     "name": "stdout",
     "output_type": "stream",
     "text": [
      "Model: \"sequential\"\n",
      "_________________________________________________________________\n",
      "Layer (type)                 Output Shape              Param #   \n",
      "=================================================================\n",
      "flatten (Flatten)            (None, 784)               0         \n",
      "_________________________________________________________________\n",
      "dense (Dense)                (None, 300)               235500    \n",
      "_________________________________________________________________\n",
      "dense_1 (Dense)              (None, 100)               30100     \n",
      "_________________________________________________________________\n",
      "dense_2 (Dense)              (None, 10)                1010      \n",
      "=================================================================\n",
      "Total params: 266,610\n",
      "Trainable params: 266,610\n",
      "Non-trainable params: 0\n",
      "_________________________________________________________________\n"
     ]
    }
   ],
   "source": [
    "model.summary()"
   ]
  },
  {
   "cell_type": "code",
   "execution_count": 22,
   "metadata": {},
   "outputs": [
    {
     "data": {
      "text/plain": [
       "[<tensorflow.python.keras.layers.core.Flatten at 0x7f483807e7c0>,\n",
       " <tensorflow.python.keras.layers.core.Dense at 0x7f483807e730>,\n",
       " <tensorflow.python.keras.layers.core.Dense at 0x7f483807ed60>,\n",
       " <tensorflow.python.keras.layers.core.Dense at 0x7f483807e3a0>]"
      ]
     },
     "execution_count": 22,
     "metadata": {},
     "output_type": "execute_result"
    }
   ],
   "source": [
    "model.layers"
   ]
  },
  {
   "cell_type": "code",
   "execution_count": 23,
   "metadata": {},
   "outputs": [
    {
     "data": {
      "image/png": "[encoded data removed]",
      "text/plain": [
       "<IPython.core.display.Image object>"
      ]
     },
     "execution_count": 23,
     "metadata": {},
     "output_type": "execute_result"
    }
   ],
   "source": [
    "keras.utils.plot_model(model, \"my_fashion_mnist_model.png\", show_shapes=True)"
   ]
  },
  {
   "cell_type": "code",
   "execution_count": 24,
   "metadata": {},
   "outputs": [
    {
     "data": {
      "text/plain": [
       "'dense'"
      ]
     },
     "execution_count": 24,
     "metadata": {},
     "output_type": "execute_result"
    }
   ],
   "source": [
    "hidden1 = model.layers[1]\n",
    "hidden1.name"
   ]
  },
  {
   "cell_type": "code",
   "execution_count": 25,
   "metadata": {},
   "outputs": [
    {
     "data": {
      "text/plain": [
       "True"
      ]
     },
     "execution_count": 25,
     "metadata": {},
     "output_type": "execute_result"
    }
   ],
   "source": [
    "model.get_layer('dense') is hidden1"
   ]
  },
  {
   "cell_type": "code",
   "execution_count": 26,
   "metadata": {},
   "outputs": [],
   "source": [
    "weights, biases = hidden1.get_weights()"
   ]
  },
  {
   "cell_type": "code",
   "execution_count": 27,
   "metadata": {},
   "outputs": [
    {
     "data": {
      "text/plain": [
       "array([[ 0.02448617, -0.00877795, -0.02189048, ..., -0.02766046,\n",
       "         0.03859074, -0.06889391],\n",
       "       [ 0.00476504, -0.03105379, -0.0586676 , ...,  0.00602964,\n",
       "        -0.02763776, -0.04165364],\n",
       "       [-0.06189284, -0.06901957,  0.07102345, ..., -0.04238207,\n",
       "         0.07121518, -0.07331658],\n",
       "       ...,\n",
       "       [-0.03048757,  0.02155137, -0.05400612, ..., -0.00113463,\n",
       "         0.00228987,  0.05581069],\n",
       "       [ 0.07061854, -0.06960931,  0.07038955, ..., -0.00384101,\n",
       "         0.00034875,  0.02878492],\n",
       "       [-0.06022581,  0.01577859, -0.02585464, ..., -0.00527829,\n",
       "         0.00272203, -0.06793761]], dtype=float32)"
      ]
     },
     "execution_count": 27,
     "metadata": {},
     "output_type": "execute_result"
    }
   ],
   "source": [
    "weights"
   ]
  },
  {
   "cell_type": "code",
   "execution_count": 28,
   "metadata": {},
   "outputs": [
    {
     "data": {
      "text/plain": [
       "(784, 300)"
      ]
     },
     "execution_count": 28,
     "metadata": {},
     "output_type": "execute_result"
    }
   ],
   "source": [
    "weights.shape"
   ]
  },
  {
   "cell_type": "code",
   "execution_count": 29,
   "metadata": {
    "scrolled": false
   },
   "outputs": [
    {
     "data": {
      "text/plain": [
       "array([0., 0., 0., 0., 0., 0., 0., 0., 0., 0., 0., 0., 0., 0., 0., 0., 0.,\n",
       "       0., 0., 0., 0., 0., 0., 0., 0., 0., 0., 0., 0., 0., 0., 0., 0., 0.,\n",
       "       0., 0., 0., 0., 0., 0., 0., 0., 0., 0., 0., 0., 0., 0., 0., 0., 0.,\n",
       "       0., 0., 0., 0., 0., 0., 0., 0., 0., 0., 0., 0., 0., 0., 0., 0., 0.,\n",
       "       0., 0., 0., 0., 0., 0., 0., 0., 0., 0., 0., 0., 0., 0., 0., 0., 0.,\n",
       "       0., 0., 0., 0., 0., 0., 0., 0., 0., 0., 0., 0., 0., 0., 0., 0., 0.,\n",
       "       0., 0., 0., 0., 0., 0., 0., 0., 0., 0., 0., 0., 0., 0., 0., 0., 0.,\n",
       "       0., 0., 0., 0., 0., 0., 0., 0., 0., 0., 0., 0., 0., 0., 0., 0., 0.,\n",
       "       0., 0., 0., 0., 0., 0., 0., 0., 0., 0., 0., 0., 0., 0., 0., 0., 0.,\n",
       "       0., 0., 0., 0., 0., 0., 0., 0., 0., 0., 0., 0., 0., 0., 0., 0., 0.,\n",
       "       0., 0., 0., 0., 0., 0., 0., 0., 0., 0., 0., 0., 0., 0., 0., 0., 0.,\n",
       "       0., 0., 0., 0., 0., 0., 0., 0., 0., 0., 0., 0., 0., 0., 0., 0., 0.,\n",
       "       0., 0., 0., 0., 0., 0., 0., 0., 0., 0., 0., 0., 0., 0., 0., 0., 0.,\n",
       "       0., 0., 0., 0., 0., 0., 0., 0., 0., 0., 0., 0., 0., 0., 0., 0., 0.,\n",
       "       0., 0., 0., 0., 0., 0., 0., 0., 0., 0., 0., 0., 0., 0., 0., 0., 0.,\n",
       "       0., 0., 0., 0., 0., 0., 0., 0., 0., 0., 0., 0., 0., 0., 0., 0., 0.,\n",
       "       0., 0., 0., 0., 0., 0., 0., 0., 0., 0., 0., 0., 0., 0., 0., 0., 0.,\n",
       "       0., 0., 0., 0., 0., 0., 0., 0., 0., 0., 0.], dtype=float32)"
      ]
     },
     "execution_count": 29,
     "metadata": {},
     "output_type": "execute_result"
    }
   ],
   "source": [
    "biases"
   ]
  },
  {
   "cell_type": "code",
   "execution_count": 30,
   "metadata": {},
   "outputs": [
    {
     "data": {
      "text/plain": [
       "(300,)"
      ]
     },
     "execution_count": 30,
     "metadata": {},
     "output_type": "execute_result"
    }
   ],
   "source": [
    "biases.shape"
   ]
  },
  {
   "cell_type": "code",
   "execution_count": 31,
   "metadata": {},
   "outputs": [],
   "source": [
    "model.compile(loss=\"sparse_categorical_crossentropy\", optimizer=\"sgd\", \n",
    "             metrics=[\"accuracy\"])\n",
    "#model.compile(loss=keras.losses.sparse_categorical_crossentropy, \n",
    "#              optimizer=keras.optimizers.SGD(), \n",
    "#              metrics=[keras.metrics.sparse_categorical_accuracy])"
   ]
  },
  {
   "cell_type": "code",
   "execution_count": 32,
   "metadata": {
    "scrolled": false
   },
   "outputs": [
    {
     "name": "stdout",
     "output_type": "stream",
     "text": [
      "Epoch 1/30\n",
      "1719/1719 [==============================] - 1s 831us/step - loss: 0.7237 - accuracy: 0.7644 - val_loss: 0.5207 - val_accuracy: 0.8234\n",
      "Epoch 2/30\n",
      "1719/1719 [==============================] - 1s 746us/step - loss: 0.4843 - accuracy: 0.8318 - val_loss: 0.4345 - val_accuracy: 0.8538\n",
      "Epoch 3/30\n",
      "1719/1719 [==============================] - 1s 733us/step - loss: 0.4393 - accuracy: 0.8454 - val_loss: 0.5332 - val_accuracy: 0.7980\n",
      "Epoch 4/30\n",
      "1719/1719 [==============================] - 1s 755us/step - loss: 0.4125 - accuracy: 0.8565 - val_loss: 0.3913 - val_accuracy: 0.8636\n",
      "Epoch 5/30\n",
      "1719/1719 [==============================] - 1s 716us/step - loss: 0.3942 - accuracy: 0.8620 - val_loss: 0.3754 - val_accuracy: 0.8688\n",
      "Epoch 6/30\n",
      "1719/1719 [==============================] - 1s 725us/step - loss: 0.3755 - accuracy: 0.8673 - val_loss: 0.3705 - val_accuracy: 0.8734\n",
      "Epoch 7/30\n",
      "1719/1719 [==============================] - 1s 743us/step - loss: 0.3635 - accuracy: 0.8713 - val_loss: 0.3617 - val_accuracy: 0.8726\n",
      "Epoch 8/30\n",
      "1719/1719 [==============================] - 1s 728us/step - loss: 0.3521 - accuracy: 0.8749 - val_loss: 0.3837 - val_accuracy: 0.8622\n",
      "Epoch 9/30\n",
      "1719/1719 [==============================] - 1s 734us/step - loss: 0.3417 - accuracy: 0.8788 - val_loss: 0.3595 - val_accuracy: 0.8708\n",
      "Epoch 10/30\n",
      "1719/1719 [==============================] - 1s 754us/step - loss: 0.3323 - accuracy: 0.8822 - val_loss: 0.3429 - val_accuracy: 0.8782\n",
      "Epoch 11/30\n",
      "1719/1719 [==============================] - 1s 745us/step - loss: 0.3243 - accuracy: 0.8839 - val_loss: 0.3433 - val_accuracy: 0.8780\n",
      "Epoch 12/30\n",
      "1719/1719 [==============================] - 1s 731us/step - loss: 0.3151 - accuracy: 0.8863 - val_loss: 0.3314 - val_accuracy: 0.8814\n",
      "Epoch 13/30\n",
      "1719/1719 [==============================] - 1s 746us/step - loss: 0.3082 - accuracy: 0.8894 - val_loss: 0.3275 - val_accuracy: 0.8878\n",
      "Epoch 14/30\n",
      "1719/1719 [==============================] - 1s 739us/step - loss: 0.3023 - accuracy: 0.8918 - val_loss: 0.3410 - val_accuracy: 0.8770\n",
      "Epoch 15/30\n",
      "1719/1719 [==============================] - 1s 743us/step - loss: 0.2948 - accuracy: 0.8941 - val_loss: 0.3219 - val_accuracy: 0.8858\n",
      "Epoch 16/30\n",
      "1719/1719 [==============================] - 1s 731us/step - loss: 0.2891 - accuracy: 0.8968 - val_loss: 0.3088 - val_accuracy: 0.8908\n",
      "Epoch 17/30\n",
      "1719/1719 [==============================] - 1s 724us/step - loss: 0.2838 - accuracy: 0.8976 - val_loss: 0.3543 - val_accuracy: 0.8736\n",
      "Epoch 18/30\n",
      "1719/1719 [==============================] - 1s 729us/step - loss: 0.2778 - accuracy: 0.9002 - val_loss: 0.3139 - val_accuracy: 0.8902\n",
      "Epoch 19/30\n",
      "1719/1719 [==============================] - 1s 750us/step - loss: 0.2730 - accuracy: 0.9024 - val_loss: 0.3122 - val_accuracy: 0.8886\n",
      "Epoch 20/30\n",
      "1719/1719 [==============================] - 1s 730us/step - loss: 0.2677 - accuracy: 0.9039 - val_loss: 0.3257 - val_accuracy: 0.8830\n",
      "Epoch 21/30\n",
      "1719/1719 [==============================] - 1s 726us/step - loss: 0.2625 - accuracy: 0.9058 - val_loss: 0.3063 - val_accuracy: 0.8920\n",
      "Epoch 22/30\n",
      "1719/1719 [==============================] - 1s 729us/step - loss: 0.2580 - accuracy: 0.9076 - val_loss: 0.2975 - val_accuracy: 0.8952\n",
      "Epoch 23/30\n",
      "1719/1719 [==============================] - 1s 738us/step - loss: 0.2536 - accuracy: 0.9085 - val_loss: 0.2986 - val_accuracy: 0.8944\n",
      "Epoch 24/30\n",
      "1719/1719 [==============================] - 1s 731us/step - loss: 0.2487 - accuracy: 0.9101 - val_loss: 0.3082 - val_accuracy: 0.8872\n",
      "Epoch 25/30\n",
      "1719/1719 [==============================] - 1s 726us/step - loss: 0.2445 - accuracy: 0.9129 - val_loss: 0.2974 - val_accuracy: 0.8950\n",
      "Epoch 26/30\n",
      "1719/1719 [==============================] - 1s 727us/step - loss: 0.2406 - accuracy: 0.9136 - val_loss: 0.3063 - val_accuracy: 0.8892\n",
      "Epoch 27/30\n",
      "1719/1719 [==============================] - 1s 725us/step - loss: 0.2365 - accuracy: 0.9153 - val_loss: 0.3036 - val_accuracy: 0.8948\n",
      "Epoch 28/30\n",
      "1719/1719 [==============================] - 1s 730us/step - loss: 0.2329 - accuracy: 0.9165 - val_loss: 0.3019 - val_accuracy: 0.8922\n",
      "Epoch 29/30\n",
      "1719/1719 [==============================] - 1s 742us/step - loss: 0.2285 - accuracy: 0.9189 - val_loss: 0.3046 - val_accuracy: 0.8910\n",
      "Epoch 30/30\n",
      "1719/1719 [==============================] - 1s 725us/step - loss: 0.2255 - accuracy: 0.9190 - val_loss: 0.3043 - val_accuracy: 0.8934\n"
     ]
    }
   ],
   "source": [
    "history = model.fit(X_train, y_train, epochs=30, validation_data=(X_valid, y_valid))\n",
    "# 每个轮次训练1719个小批量，验证误差是在每个轮次结束时计算的，而训练误差是使用每个轮次的运行平均值计算的（1719个小批量的平均误差）"
   ]
  },
  {
   "cell_type": "code",
   "execution_count": 33,
   "metadata": {},
   "outputs": [
    {
     "data": {
      "text/plain": [
       "{'verbose': 1, 'epochs': 30, 'steps': 1719}"
      ]
     },
     "execution_count": 33,
     "metadata": {},
     "output_type": "execute_result"
    }
   ],
   "source": [
    "history.params"
   ]
  },
  {
   "cell_type": "code",
   "execution_count": 34,
   "metadata": {},
   "outputs": [
    {
     "data": {
      "image/png": "[encoded data removed]",
      "text/plain": [
       "<Figure size 576x360 with 1 Axes>"
      ]
     },
     "metadata": {
      "needs_background": "light"
     },
     "output_type": "display_data"
    }
   ],
   "source": [
    "import pandas as pd\n",
    "\n",
    "pd.DataFrame(history.history).plot(figsize=(8, 5))    # pandas的DataFrame类接口接受一个映射参数来构建实例\n",
    "plt.grid(True)\n",
    "plt.gca().set_ylim(0, 1)\n",
    "plt.show()    # 绘制训练曲线时，应将其向左移动半个轮次，应为刚开始的半个轮次的训练误差比较大"
   ]
  },
  {
   "cell_type": "code",
   "execution_count": 35,
   "metadata": {},
   "outputs": [
    {
     "name": "stdout",
     "output_type": "stream",
     "text": [
      "313/313 [==============================] - 0s 588us/step - loss: 0.3391 - accuracy: 0.8833\n"
     ]
    },
    {
     "data": {
      "text/plain": [
       "[0.33905985951423645, 0.8833000063896179]"
      ]
     },
     "execution_count": 35,
     "metadata": {},
     "output_type": "execute_result"
    }
   ],
   "source": [
    "X_test = X_test / 255.0\n",
    "model.evaluate(X_test, y_test)"
   ]
  },
  {
   "cell_type": "code",
   "execution_count": 36,
   "metadata": {},
   "outputs": [
    {
     "data": {
      "text/plain": [
       "array([[0.  , 0.  , 0.  , 0.  , 0.  , 0.01, 0.  , 0.03, 0.  , 0.96],\n",
       "       [0.  , 0.  , 0.99, 0.  , 0.01, 0.  , 0.  , 0.  , 0.  , 0.  ],\n",
       "       [0.  , 1.  , 0.  , 0.  , 0.  , 0.  , 0.  , 0.  , 0.  , 0.  ]],\n",
       "      dtype=float32)"
      ]
     },
     "execution_count": 36,
     "metadata": {},
     "output_type": "execute_result"
    }
   ],
   "source": [
    "X_new = X_test[:3]\n",
    "y_proba = model.predict(X_new)\n",
    "y_proba.round(2)"
   ]
  },
  {
   "cell_type": "code",
   "execution_count": 37,
   "metadata": {},
   "outputs": [
    {
     "data": {
      "text/plain": [
       "array([9, 2, 1])"
      ]
     },
     "execution_count": 37,
     "metadata": {},
     "output_type": "execute_result"
    }
   ],
   "source": [
    "y_pred = np.argmax(model.predict(X_new), axis=-1)\n",
    "y_pred"
   ]
  },
  {
   "cell_type": "code",
   "execution_count": 38,
   "metadata": {},
   "outputs": [
    {
     "data": {
      "text/plain": [
       "array([9, 2, 1])"
      ]
     },
     "execution_count": 38,
     "metadata": {},
     "output_type": "execute_result"
    }
   ],
   "source": [
    "np.argmax(model.predict(X_new), axis=-1)"
   ]
  },
  {
   "cell_type": "code",
   "execution_count": 39,
   "metadata": {},
   "outputs": [
    {
     "data": {
      "text/plain": [
       "array(['Ankle boot', 'Pullover', 'Trouser'], dtype='<U11')"
      ]
     },
     "execution_count": 39,
     "metadata": {},
     "output_type": "execute_result"
    }
   ],
   "source": [
    "np.array(class_names)[y_pred]"
   ]
  },
  {
   "cell_type": "code",
   "execution_count": 40,
   "metadata": {},
   "outputs": [
    {
     "data": {
      "text/plain": [
       "array([9, 2, 1], dtype=uint8)"
      ]
     },
     "execution_count": 40,
     "metadata": {},
     "output_type": "execute_result"
    }
   ],
   "source": [
    "y_new = y_test[:3]\n",
    "y_new"
   ]
  },
  {
   "cell_type": "code",
   "execution_count": 41,
   "metadata": {},
   "outputs": [
    {
     "data": {
      "image/png": "[encoded data removed]",
      "text/plain": [
       "<Figure size 518.4x172.8 with 3 Axes>"
      ]
     },
     "metadata": {
      "needs_background": "light"
     },
     "output_type": "display_data"
    }
   ],
   "source": [
    "plt.figure(figsize=(7.2, 2.4))\n",
    "for index, image in enumerate(X_new):\n",
    "    plt.subplot(1, 3, index + 1)\n",
    "    plt.imshow(image, cmap=\"binary\", interpolation=\"nearest\")\n",
    "    plt.axis('off')\n",
    "    plt.title(class_names[y_test[index]], fontsize=12)\n",
    "plt.subplots_adjust(wspace=0.2, hspace=0.5)\n",
    "plt.show()"
   ]
  },
  {
   "cell_type": "markdown",
   "metadata": {},
   "source": [
    "## 使用顺序API构建回归MLP"
   ]
  },
  {
   "cell_type": "code",
   "execution_count": 42,
   "metadata": {},
   "outputs": [],
   "source": [
    "from sklearn.datasets import fetch_california_housing\n",
    "from sklearn.model_selection import train_test_split\n",
    "from sklearn.preprocessing import StandardScaler\n",
    "\n",
    "housing = fetch_california_housing()\n",
    "\n",
    "# 根据相同的索引来拆分行数相同的数据集\n",
    "X_train_full, X_test, y_train_full, y_test = train_test_split(housing.data, housing.target)\n",
    "X_train, X_valid, y_train, y_valid = train_test_split(X_train_full, y_train_full)\n",
    "\n",
    "scalar = StandardScaler()\n",
    "X_train = scalar.fit_transform(X_train)\n",
    "X_valid = scalar.transform(X_valid)\n",
    "X_test = scalar.transform(X_test)"
   ]
  },
  {
   "cell_type": "code",
   "execution_count": 43,
   "metadata": {},
   "outputs": [],
   "source": [
    "np.random.seed(42)\n",
    "tf.random.set_seed(42)"
   ]
  },
  {
   "cell_type": "code",
   "execution_count": 44,
   "metadata": {},
   "outputs": [],
   "source": [
    "model = keras.models.Sequential([\n",
    "    keras.layers.Dense(30, activation=\"relu\", input_shape=X_train.shape[1:]),\n",
    "    keras.layers.Dense(1)\n",
    "])"
   ]
  },
  {
   "cell_type": "code",
   "execution_count": 45,
   "metadata": {},
   "outputs": [
    {
     "name": "stdout",
     "output_type": "stream",
     "text": [
      "Model: \"sequential_1\"\n",
      "_________________________________________________________________\n",
      "Layer (type)                 Output Shape              Param #   \n",
      "=================================================================\n",
      "dense_3 (Dense)              (None, 30)                270       \n",
      "_________________________________________________________________\n",
      "dense_4 (Dense)              (None, 1)                 31        \n",
      "=================================================================\n",
      "Total params: 301\n",
      "Trainable params: 301\n",
      "Non-trainable params: 0\n",
      "_________________________________________________________________\n"
     ]
    }
   ],
   "source": [
    "model.summary()"
   ]
  },
  {
   "cell_type": "code",
   "execution_count": 46,
   "metadata": {},
   "outputs": [],
   "source": [
    "model.compile(loss=\"mean_squared_error\", optimizer=\"sgd\")"
   ]
  },
  {
   "cell_type": "code",
   "execution_count": 47,
   "metadata": {
    "scrolled": true
   },
   "outputs": [
    {
     "name": "stdout",
     "output_type": "stream",
     "text": [
      "Epoch 1/20\n",
      "363/363 [==============================] - 0s 704us/step - loss: 0.8428 - val_loss: 0.8776\n",
      "Epoch 2/20\n",
      "363/363 [==============================] - 0s 601us/step - loss: 0.5852 - val_loss: 0.4970\n",
      "Epoch 3/20\n",
      "363/363 [==============================] - 0s 595us/step - loss: 0.4724 - val_loss: 0.4692\n",
      "Epoch 4/20\n",
      "363/363 [==============================] - 0s 600us/step - loss: 0.4445 - val_loss: 0.4594\n",
      "Epoch 5/20\n",
      "363/363 [==============================] - 0s 597us/step - loss: 0.4324 - val_loss: 0.4495\n",
      "Epoch 6/20\n",
      "363/363 [==============================] - 0s 599us/step - loss: 0.4237 - val_loss: 0.4425\n",
      "Epoch 7/20\n",
      "363/363 [==============================] - 0s 596us/step - loss: 0.4161 - val_loss: 0.4318\n",
      "Epoch 8/20\n",
      "363/363 [==============================] - 0s 597us/step - loss: 0.4082 - val_loss: 0.4311\n",
      "Epoch 9/20\n",
      "363/363 [==============================] - 0s 600us/step - loss: 0.4018 - val_loss: 0.4230\n",
      "Epoch 10/20\n",
      "363/363 [==============================] - 0s 601us/step - loss: 0.3981 - val_loss: 0.4195\n",
      "Epoch 11/20\n",
      "363/363 [==============================] - 0s 596us/step - loss: 0.3931 - val_loss: 0.4166\n",
      "Epoch 12/20\n",
      "363/363 [==============================] - 0s 598us/step - loss: 0.3895 - val_loss: 0.4135\n",
      "Epoch 13/20\n",
      "363/363 [==============================] - 0s 612us/step - loss: 0.3855 - val_loss: 0.4155\n",
      "Epoch 14/20\n",
      "363/363 [==============================] - 0s 616us/step - loss: 0.3815 - val_loss: 0.4202\n",
      "Epoch 15/20\n",
      "363/363 [==============================] - 0s 602us/step - loss: 0.3776 - val_loss: 0.4158\n",
      "Epoch 16/20\n",
      "363/363 [==============================] - 0s 608us/step - loss: 0.3753 - val_loss: 0.3997\n",
      "Epoch 17/20\n",
      "363/363 [==============================] - 0s 597us/step - loss: 0.3721 - val_loss: 0.4047\n",
      "Epoch 18/20\n",
      "363/363 [==============================] - 0s 594us/step - loss: 0.3686 - val_loss: 0.3980\n",
      "Epoch 19/20\n",
      "363/363 [==============================] - 0s 601us/step - loss: 0.3679 - val_loss: 0.3951\n",
      "Epoch 20/20\n",
      "363/363 [==============================] - 0s 595us/step - loss: 0.3660 - val_loss: 0.3954\n"
     ]
    }
   ],
   "source": [
    "history = model.fit(X_train, y_train, epochs=20, validation_data=(X_valid, y_valid))"
   ]
  },
  {
   "cell_type": "code",
   "execution_count": 48,
   "metadata": {},
   "outputs": [
    {
     "name": "stdout",
     "output_type": "stream",
     "text": [
      "162/162 [==============================] - 0s 360us/step - loss: 0.3768\n"
     ]
    }
   ],
   "source": [
    "mse_test = model.evaluate(X_test, y_test)"
   ]
  },
  {
   "cell_type": "code",
   "execution_count": 49,
   "metadata": {},
   "outputs": [],
   "source": [
    "X_new = X_test[:3]"
   ]
  },
  {
   "cell_type": "code",
   "execution_count": 50,
   "metadata": {},
   "outputs": [],
   "source": [
    "y_pred = model.predict(X_new)"
   ]
  },
  {
   "cell_type": "code",
   "execution_count": 51,
   "metadata": {},
   "outputs": [
    {
     "data": {
      "text/plain": [
       "array([[0.6350653],\n",
       "       [1.7379589],\n",
       "       [3.5857038]], dtype=float32)"
      ]
     },
     "execution_count": 51,
     "metadata": {},
     "output_type": "execute_result"
    }
   ],
   "source": [
    "y_pred"
   ]
  },
  {
   "cell_type": "code",
   "execution_count": 52,
   "metadata": {},
   "outputs": [
    {
     "data": {
      "image/png": "[encoded data removed]",
      "text/plain": [
       "<Figure size 432x288 with 1 Axes>"
      ]
     },
     "metadata": {
      "needs_background": "light"
     },
     "output_type": "display_data"
    }
   ],
   "source": [
    "plt.plot(pd.DataFrame(history.history))\n",
    "plt.grid('off')\n",
    "plt.gca().set_ylim(0, 1)\n",
    "plt.show()"
   ]
  },
  {
   "cell_type": "markdown",
   "metadata": {},
   "source": [
    "## 使用函数式API构建复杂模型"
   ]
  },
  {
   "cell_type": "code",
   "execution_count": 53,
   "metadata": {},
   "outputs": [],
   "source": [
    "np.random.seed(42)\n",
    "tf.random.set_seed(42)"
   ]
  },
  {
   "cell_type": "code",
   "execution_count": 54,
   "metadata": {},
   "outputs": [],
   "source": [
    "input_ = keras.layers.Input(shape=X_train.shape[1:])\n",
    "hidden1 = keras.layers.Dense(30, activation=\"relu\")(input_)\n",
    "hidden2 = keras.layers.Dense(30, activation=\"relu\")(hidden1)\n",
    "concat = keras.layers.Concatenate()([input_, hidden2])\n",
    "output = keras.layers.Dense(1)(concat)\n",
    "model = keras.Model(inputs=[input_], outputs=[output])"
   ]
  },
  {
   "cell_type": "code",
   "execution_count": 55,
   "metadata": {},
   "outputs": [
    {
     "name": "stdout",
     "output_type": "stream",
     "text": [
      "Model: \"functional_1\"\n",
      "__________________________________________________________________________________________________\n",
      "Layer (type)                    Output Shape         Param #     Connected to                     \n",
      "==================================================================================================\n",
      "input_1 (InputLayer)            [(None, 8)]          0                                            \n",
      "__________________________________________________________________________________________________\n",
      "dense_5 (Dense)                 (None, 30)           270         input_1[0][0]                    \n",
      "__________________________________________________________________________________________________\n",
      "dense_6 (Dense)                 (None, 30)           930         dense_5[0][0]                    \n",
      "__________________________________________________________________________________________________\n",
      "concatenate (Concatenate)       (None, 38)           0           input_1[0][0]                    \n",
      "                                                                 dense_6[0][0]                    \n",
      "__________________________________________________________________________________________________\n",
      "dense_7 (Dense)                 (None, 1)            39          concatenate[0][0]                \n",
      "==================================================================================================\n",
      "Total params: 1,239\n",
      "Trainable params: 1,239\n",
      "Non-trainable params: 0\n",
      "__________________________________________________________________________________________________\n"
     ]
    }
   ],
   "source": [
    "model.summary()"
   ]
  },
  {
   "cell_type": "code",
   "execution_count": 56,
   "metadata": {
    "scrolled": true
   },
   "outputs": [
    {
     "name": "stdout",
     "output_type": "stream",
     "text": [
      "Epoch 1/20\n",
      "363/363 [==============================] - 0s 778us/step - loss: 1.3035 - val_loss: 0.7101\n",
      "Epoch 2/20\n",
      "363/363 [==============================] - 0s 651us/step - loss: 0.6619 - val_loss: 0.6456\n",
      "Epoch 3/20\n",
      "363/363 [==============================] - 0s 655us/step - loss: 0.6156 - val_loss: 0.6133\n",
      "Epoch 4/20\n",
      "363/363 [==============================] - 0s 659us/step - loss: 0.5873 - val_loss: 0.5928\n",
      "Epoch 5/20\n",
      "363/363 [==============================] - 0s 662us/step - loss: 0.5664 - val_loss: 0.5708\n",
      "Epoch 6/20\n",
      "363/363 [==============================] - 0s 670us/step - loss: 0.5470 - val_loss: 0.5567\n",
      "Epoch 7/20\n",
      "363/363 [==============================] - 0s 649us/step - loss: 0.5324 - val_loss: 0.5430\n",
      "Epoch 8/20\n",
      "363/363 [==============================] - 0s 653us/step - loss: 0.5193 - val_loss: 0.5318\n",
      "Epoch 9/20\n",
      "363/363 [==============================] - 0s 658us/step - loss: 0.5088 - val_loss: 0.5219\n",
      "Epoch 10/20\n",
      "363/363 [==============================] - 0s 654us/step - loss: 0.4994 - val_loss: 0.5134\n",
      "Epoch 11/20\n",
      "363/363 [==============================] - 0s 659us/step - loss: 0.4909 - val_loss: 0.5059\n",
      "Epoch 12/20\n",
      "363/363 [==============================] - 0s 662us/step - loss: 0.4837 - val_loss: 0.4984\n",
      "Epoch 13/20\n",
      "363/363 [==============================] - 0s 653us/step - loss: 0.4771 - val_loss: 0.4913\n",
      "Epoch 14/20\n",
      "363/363 [==============================] - 0s 663us/step - loss: 0.4713 - val_loss: 0.4864\n",
      "Epoch 15/20\n",
      "363/363 [==============================] - 0s 659us/step - loss: 0.4658 - val_loss: 0.4823\n",
      "Epoch 16/20\n",
      "363/363 [==============================] - 0s 669us/step - loss: 0.4612 - val_loss: 0.4769\n",
      "Epoch 17/20\n",
      "363/363 [==============================] - 0s 657us/step - loss: 0.4566 - val_loss: 0.4740\n",
      "Epoch 18/20\n",
      "363/363 [==============================] - 0s 651us/step - loss: 0.4529 - val_loss: 0.4699\n",
      "Epoch 19/20\n",
      "363/363 [==============================] - 0s 655us/step - loss: 0.4493 - val_loss: 0.4653\n",
      "Epoch 20/20\n",
      "363/363 [==============================] - 0s 650us/step - loss: 0.4457 - val_loss: 0.4636\n"
     ]
    }
   ],
   "source": [
    "model.compile(loss=\"mean_squared_error\", optimizer=keras.optimizers.SGD(lr=1e-3))\n",
    "history = model.fit(X_train, y_train, epochs=20, validation_data=(X_valid, y_valid))"
   ]
  },
  {
   "cell_type": "code",
   "execution_count": 57,
   "metadata": {},
   "outputs": [
    {
     "name": "stdout",
     "output_type": "stream",
     "text": [
      "162/162 [==============================] - 0s 381us/step - loss: 0.4568\n"
     ]
    }
   ],
   "source": [
    "mse_test = model.evaluate(X_test, y_test)"
   ]
  },
  {
   "cell_type": "code",
   "execution_count": 58,
   "metadata": {},
   "outputs": [
    {
     "data": {
      "text/plain": [
       "array([[0.6082932],\n",
       "       [1.7275202],\n",
       "       [3.0231009]], dtype=float32)"
      ]
     },
     "execution_count": 58,
     "metadata": {},
     "output_type": "execute_result"
    }
   ],
   "source": [
    "y_pred = model.predict(X_new)\n",
    "y_pred"
   ]
  },
  {
   "cell_type": "code",
   "execution_count": 59,
   "metadata": {},
   "outputs": [],
   "source": [
    "np.random.seed(42)\n",
    "tf.random.set_seed(42)"
   ]
  },
  {
   "cell_type": "code",
   "execution_count": 60,
   "metadata": {},
   "outputs": [],
   "source": [
    "input_A = keras.layers.Input(shape=[5], name=\"wide_input\")\n",
    "input_B = keras.layers.Input(shape=[6], name=\"deep_input\")\n",
    "hidden1 = keras.layers.Dense(30, activation=\"relu\")(input_B)\n",
    "hidden2 = keras.layers.Dense(30, activation=\"relu\")(hidden1)\n",
    "concat = keras.layers.Concatenate()([input_A, hidden2])\n",
    "output = keras.layers.Dense(1, name=\"output\")(concat)\n",
    "model = keras.Model(inputs=[input_A, input_B], outputs=[output])"
   ]
  },
  {
   "cell_type": "code",
   "execution_count": 61,
   "metadata": {
    "scrolled": false
   },
   "outputs": [
    {
     "name": "stdout",
     "output_type": "stream",
     "text": [
      "Model: \"functional_3\"\n",
      "__________________________________________________________________________________________________\n",
      "Layer (type)                    Output Shape         Param #     Connected to                     \n",
      "==================================================================================================\n",
      "deep_input (InputLayer)         [(None, 6)]          0                                            \n",
      "__________________________________________________________________________________________________\n",
      "dense_8 (Dense)                 (None, 30)           210         deep_input[0][0]                 \n",
      "__________________________________________________________________________________________________\n",
      "wide_input (InputLayer)         [(None, 5)]          0                                            \n",
      "__________________________________________________________________________________________________\n",
      "dense_9 (Dense)                 (None, 30)           930         dense_8[0][0]                    \n",
      "__________________________________________________________________________________________________\n",
      "concatenate_1 (Concatenate)     (None, 35)           0           wide_input[0][0]                 \n",
      "                                                                 dense_9[0][0]                    \n",
      "__________________________________________________________________________________________________\n",
      "output (Dense)                  (None, 1)            36          concatenate_1[0][0]              \n",
      "==================================================================================================\n",
      "Total params: 1,176\n",
      "Trainable params: 1,176\n",
      "Non-trainable params: 0\n",
      "__________________________________________________________________________________________________\n"
     ]
    }
   ],
   "source": [
    "model.summary()"
   ]
  },
  {
   "cell_type": "code",
   "execution_count": 62,
   "metadata": {
    "scrolled": true
   },
   "outputs": [
    {
     "name": "stdout",
     "output_type": "stream",
     "text": [
      "Epoch 1/20\n",
      "363/363 [==============================] - 0s 793us/step - loss: 1.8248 - val_loss: 0.7923\n",
      "Epoch 2/20\n",
      "363/363 [==============================] - 0s 685us/step - loss: 0.7055 - val_loss: 0.6450\n",
      "Epoch 3/20\n",
      "363/363 [==============================] - 0s 672us/step - loss: 0.6258 - val_loss: 0.6057\n",
      "Epoch 4/20\n",
      "363/363 [==============================] - 0s 675us/step - loss: 0.5910 - val_loss: 0.5840\n",
      "Epoch 5/20\n",
      "363/363 [==============================] - 0s 678us/step - loss: 0.5690 - val_loss: 0.5665\n",
      "Epoch 6/20\n",
      "363/363 [==============================] - 0s 681us/step - loss: 0.5508 - val_loss: 0.5542\n",
      "Epoch 7/20\n",
      "363/363 [==============================] - 0s 671us/step - loss: 0.5373 - val_loss: 0.5430\n",
      "Epoch 8/20\n",
      "363/363 [==============================] - 0s 675us/step - loss: 0.5256 - val_loss: 0.5343\n",
      "Epoch 9/20\n",
      "363/363 [==============================] - 0s 678us/step - loss: 0.5168 - val_loss: 0.5270\n",
      "Epoch 10/20\n",
      "363/363 [==============================] - 0s 679us/step - loss: 0.5093 - val_loss: 0.5214\n",
      "Epoch 11/20\n",
      "363/363 [==============================] - 0s 684us/step - loss: 0.5027 - val_loss: 0.5163\n",
      "Epoch 12/20\n",
      "363/363 [==============================] - 0s 678us/step - loss: 0.4972 - val_loss: 0.5128\n",
      "Epoch 13/20\n",
      "363/363 [==============================] - 0s 681us/step - loss: 0.4925 - val_loss: 0.5091\n",
      "Epoch 14/20\n",
      "363/363 [==============================] - 0s 677us/step - loss: 0.4887 - val_loss: 0.5048\n",
      "Epoch 15/20\n",
      "363/363 [==============================] - 0s 683us/step - loss: 0.4845 - val_loss: 0.5027\n",
      "Epoch 16/20\n",
      "363/363 [==============================] - 0s 677us/step - loss: 0.4818 - val_loss: 0.4996\n",
      "Epoch 17/20\n",
      "363/363 [==============================] - 0s 668us/step - loss: 0.4782 - val_loss: 0.4978\n",
      "Epoch 18/20\n",
      "363/363 [==============================] - 0s 674us/step - loss: 0.4759 - val_loss: 0.4953\n",
      "Epoch 19/20\n",
      "363/363 [==============================] - 0s 677us/step - loss: 0.4732 - val_loss: 0.4923\n",
      "Epoch 20/20\n",
      "363/363 [==============================] - 0s 674us/step - loss: 0.4708 - val_loss: 0.4910\n"
     ]
    }
   ],
   "source": [
    "model.compile(loss=\"mse\", optimizer=keras.optimizers.SGD(lr=1e-3))\n",
    "\n",
    "X_train_A, X_train_B = X_train[:, :5], X_train[:, 2:]\n",
    "X_valid_A, X_valid_B = X_valid[:, :5], X_valid[:, 2:]\n",
    "\n",
    "X_test_A, X_test_B = X_test[:, :5], X_test[:, 2:]\n",
    "X_new_A, X_new_B = X_test_A[:3], X_test_B[:3]\n",
    "\n",
    "history = model.fit((X_train_A, X_train_B), y_train, epochs=20, \n",
    "                    validation_data=((X_valid_A, X_valid_B), y_valid))"
   ]
  },
  {
   "cell_type": "code",
   "execution_count": 63,
   "metadata": {},
   "outputs": [
    {
     "name": "stdout",
     "output_type": "stream",
     "text": [
      "162/162 [==============================] - 0s 385us/step - loss: 0.4846\n"
     ]
    }
   ],
   "source": [
    "mse_test = model.evaluate((X_test_A, X_test_B), y_test)"
   ]
  },
  {
   "cell_type": "code",
   "execution_count": 64,
   "metadata": {},
   "outputs": [
    {
     "data": {
      "text/plain": [
       "array([[0.5795038],\n",
       "       [1.8652056],\n",
       "       [3.0037045]], dtype=float32)"
      ]
     },
     "execution_count": 64,
     "metadata": {},
     "output_type": "execute_result"
    }
   ],
   "source": [
    "y_pred = model.predict((X_new_A, X_new_B))\n",
    "y_pred"
   ]
  },
  {
   "cell_type": "markdown",
   "metadata": {},
   "source": [
    "### 处理多输出的情况"
   ]
  },
  {
   "cell_type": "code",
   "execution_count": 65,
   "metadata": {},
   "outputs": [],
   "source": [
    "np.random.seed(42)\n",
    "tf.random.set_seed(42)"
   ]
  },
  {
   "cell_type": "code",
   "execution_count": 66,
   "metadata": {},
   "outputs": [
    {
     "name": "stdout",
     "output_type": "stream",
     "text": [
      "Model: \"functional_5\"\n",
      "__________________________________________________________________________________________________\n",
      "Layer (type)                    Output Shape         Param #     Connected to                     \n",
      "==================================================================================================\n",
      "deep_input (InputLayer)         [(None, 6)]          0                                            \n",
      "__________________________________________________________________________________________________\n",
      "dense_10 (Dense)                (None, 30)           210         deep_input[0][0]                 \n",
      "__________________________________________________________________________________________________\n",
      "wide_input (InputLayer)         [(None, 5)]          0                                            \n",
      "__________________________________________________________________________________________________\n",
      "dense_11 (Dense)                (None, 30)           930         dense_10[0][0]                   \n",
      "__________________________________________________________________________________________________\n",
      "concatenate_2 (Concatenate)     (None, 35)           0           wide_input[0][0]                 \n",
      "                                                                 dense_11[0][0]                   \n",
      "__________________________________________________________________________________________________\n",
      "main_output (Dense)             (None, 1)            36          concatenate_2[0][0]              \n",
      "__________________________________________________________________________________________________\n",
      "aux_output (Dense)              (None, 1)            31          dense_11[0][0]                   \n",
      "==================================================================================================\n",
      "Total params: 1,207\n",
      "Trainable params: 1,207\n",
      "Non-trainable params: 0\n",
      "__________________________________________________________________________________________________\n"
     ]
    }
   ],
   "source": [
    "input_A = keras.layers.Input(shape=[5], name=\"wide_input\")    # 宽输入\n",
    "input_B = keras.layers.Input(shape=[6], name=\"deep_input\")    # 深输入\n",
    "hidden1 = keras.layers.Dense(30, activation=\"relu\")(input_B)\n",
    "hidden2 = keras.layers.Dense(30, activation=\"relu\")(hidden1)\n",
    "concat = keras.layers.Concatenate()([input_A, hidden2])\n",
    "output = keras.layers.Dense(1, name=\"main_output\")(concat)\n",
    "aux_output = keras.layers.Dense(1, name=\"aux_output\")(hidden2)\n",
    "model = keras.Model(inputs=[input_A, input_B], outputs=[output, aux_output])\n",
    "model.summary()"
   ]
  },
  {
   "cell_type": "code",
   "execution_count": 67,
   "metadata": {},
   "outputs": [],
   "source": [
    "model.compile(loss={\"main_output\": \"mse\", \"aux_output\": \"mse\"}, loss_weights=[0.9, 0.1], \n",
    "              optimizer=keras.optimizers.SGD(lr=1e-3))"
   ]
  },
  {
   "cell_type": "code",
   "execution_count": 68,
   "metadata": {
    "scrolled": true
   },
   "outputs": [
    {
     "name": "stdout",
     "output_type": "stream",
     "text": [
      "Epoch 1/20\n",
      "363/363 [==============================] - 0s 1ms/step - loss: 2.1377 - main_output_loss: 1.9300 - aux_output_loss: 4.0068 - val_loss: 1.0631 - val_main_output_loss: 0.8288 - val_aux_output_loss: 3.1725\n",
      "Epoch 2/20\n",
      "363/363 [==============================] - 0s 982us/step - loss: 0.9125 - main_output_loss: 0.7249 - aux_output_loss: 2.6008 - val_loss: 0.8148 - val_main_output_loss: 0.6557 - val_aux_output_loss: 2.2465\n",
      "Epoch 3/20\n",
      "363/363 [==============================] - 0s 979us/step - loss: 0.7656 - main_output_loss: 0.6357 - aux_output_loss: 1.9353 - val_loss: 0.7374 - val_main_output_loss: 0.6142 - val_aux_output_loss: 1.8463\n",
      "Epoch 4/20\n",
      "363/363 [==============================] - 0s 978us/step - loss: 0.7043 - main_output_loss: 0.5994 - aux_output_loss: 1.6482 - val_loss: 0.6974 - val_main_output_loss: 0.5923 - val_aux_output_loss: 1.6432\n",
      "Epoch 5/20\n",
      "363/363 [==============================] - 0s 983us/step - loss: 0.6687 - main_output_loss: 0.5769 - aux_output_loss: 1.4948 - val_loss: 0.6679 - val_main_output_loss: 0.5734 - val_aux_output_loss: 1.5184\n",
      "Epoch 6/20\n",
      "363/363 [==============================] - 0s 976us/step - loss: 0.6423 - main_output_loss: 0.5582 - aux_output_loss: 1.3996 - val_loss: 0.6461 - val_main_output_loss: 0.5585 - val_aux_output_loss: 1.4349\n",
      "Epoch 7/20\n",
      "363/363 [==============================] - 0s 984us/step - loss: 0.6221 - main_output_loss: 0.5429 - aux_output_loss: 1.3343 - val_loss: 0.6277 - val_main_output_loss: 0.5473 - val_aux_output_loss: 1.3516\n",
      "Epoch 8/20\n",
      "363/363 [==============================] - 0s 983us/step - loss: 0.6051 - main_output_loss: 0.5304 - aux_output_loss: 1.2780 - val_loss: 0.6127 - val_main_output_loss: 0.5371 - val_aux_output_loss: 1.2929\n",
      "Epoch 9/20\n",
      "363/363 [==============================] - 0s 994us/step - loss: 0.5916 - main_output_loss: 0.5207 - aux_output_loss: 1.2301 - val_loss: 0.6003 - val_main_output_loss: 0.5287 - val_aux_output_loss: 1.2442\n",
      "Epoch 10/20\n",
      "363/363 [==============================] - 0s 986us/step - loss: 0.5804 - main_output_loss: 0.5126 - aux_output_loss: 1.1915 - val_loss: 0.5902 - val_main_output_loss: 0.5219 - val_aux_output_loss: 1.2044\n",
      "Epoch 11/20\n",
      "363/363 [==============================] - 0s 989us/step - loss: 0.5706 - main_output_loss: 0.5053 - aux_output_loss: 1.1584 - val_loss: 0.5816 - val_main_output_loss: 0.5165 - val_aux_output_loss: 1.1674\n",
      "Epoch 12/20\n",
      "363/363 [==============================] - 0s 989us/step - loss: 0.5624 - main_output_loss: 0.4996 - aux_output_loss: 1.1278 - val_loss: 0.5748 - val_main_output_loss: 0.5128 - val_aux_output_loss: 1.1329\n",
      "Epoch 13/20\n",
      "363/363 [==============================] - 0s 989us/step - loss: 0.5552 - main_output_loss: 0.4945 - aux_output_loss: 1.1011 - val_loss: 0.5682 - val_main_output_loss: 0.5082 - val_aux_output_loss: 1.1079\n",
      "Epoch 14/20\n",
      "363/363 [==============================] - 0s 991us/step - loss: 0.5490 - main_output_loss: 0.4902 - aux_output_loss: 1.0784 - val_loss: 0.5618 - val_main_output_loss: 0.5039 - val_aux_output_loss: 1.0834\n",
      "Epoch 15/20\n",
      "363/363 [==============================] - 0s 983us/step - loss: 0.5430 - main_output_loss: 0.4860 - aux_output_loss: 1.0558 - val_loss: 0.5579 - val_main_output_loss: 0.5019 - val_aux_output_loss: 1.0613\n",
      "Epoch 16/20\n",
      "363/363 [==============================] - 0s 977us/step - loss: 0.5384 - main_output_loss: 0.4832 - aux_output_loss: 1.0347 - val_loss: 0.5527 - val_main_output_loss: 0.4983 - val_aux_output_loss: 1.0422\n",
      "Epoch 17/20\n",
      "363/363 [==============================] - 0s 971us/step - loss: 0.5334 - main_output_loss: 0.4798 - aux_output_loss: 1.0162 - val_loss: 0.5493 - val_main_output_loss: 0.4966 - val_aux_output_loss: 1.0235\n",
      "Epoch 18/20\n",
      "363/363 [==============================] - 0s 987us/step - loss: 0.5294 - main_output_loss: 0.4772 - aux_output_loss: 0.9991 - val_loss: 0.5454 - val_main_output_loss: 0.4942 - val_aux_output_loss: 1.0061\n",
      "Epoch 19/20\n",
      "363/363 [==============================] - 0s 988us/step - loss: 0.5256 - main_output_loss: 0.4748 - aux_output_loss: 0.9823 - val_loss: 0.5413 - val_main_output_loss: 0.4914 - val_aux_output_loss: 0.9909\n",
      "Epoch 20/20\n",
      "363/363 [==============================] - 0s 989us/step - loss: 0.5218 - main_output_loss: 0.4724 - aux_output_loss: 0.9672 - val_loss: 0.5388 - val_main_output_loss: 0.4903 - val_aux_output_loss: 0.9755\n"
     ]
    }
   ],
   "source": [
    "history = model.fit([X_train_A, X_train_B], [y_train, y_train], epochs=20,\n",
    "                   validation_data=([X_valid_A, X_valid_B], [y_valid, y_valid]))"
   ]
  },
  {
   "cell_type": "code",
   "execution_count": 69,
   "metadata": {},
   "outputs": [
    {
     "name": "stdout",
     "output_type": "stream",
     "text": [
      "162/162 [==============================] - 0s 567us/step - loss: 0.5287 - main_output_loss: 0.4825 - aux_output_loss: 0.9444\n"
     ]
    }
   ],
   "source": [
    "total_loss, main_loss, aux_loss = model.evaluate([X_test_A, X_test_B], [y_test, y_test])"
   ]
  },
  {
   "cell_type": "code",
   "execution_count": 70,
   "metadata": {},
   "outputs": [
    {
     "name": "stdout",
     "output_type": "stream",
     "text": [
      "WARNING:tensorflow:5 out of the last 7 calls to <function Model.make_predict_function.<locals>.predict_function at 0x7f48f4532d30> triggered tf.function retracing. Tracing is expensive and the excessive number of tracings could be due to (1) creating @tf.function repeatedly in a loop, (2) passing tensors with different shapes, (3) passing Python objects instead of tensors. For (1), please define your @tf.function outside of the loop. For (2), @tf.function has experimental_relax_shapes=True option that relaxes argument shapes that can avoid unnecessary retracing. For (3), please refer to https://www.tensorflow.org/tutorials/customization/performance#python_or_tensor_args and https://www.tensorflow.org/api_docs/python/tf/function for  more details.\n"
     ]
    }
   ],
   "source": [
    "y_pred_main, y_pred_aux = model.predict([X_new_A, X_new_B])"
   ]
  },
  {
   "cell_type": "code",
   "execution_count": 71,
   "metadata": {},
   "outputs": [
    {
     "data": {
      "text/plain": [
       "(array([[0.5802702],\n",
       "        [1.8899385],\n",
       "        [2.911005 ]], dtype=float32),\n",
       " array([[1.1064178],\n",
       "        [1.8559933],\n",
       "        [2.2499   ]], dtype=float32))"
      ]
     },
     "execution_count": 71,
     "metadata": {},
     "output_type": "execute_result"
    }
   ],
   "source": [
    "y_pred_main, y_pred_aux"
   ]
  },
  {
   "cell_type": "markdown",
   "metadata": {},
   "source": [
    "## 使用子类API构建动态模型"
   ]
  },
  {
   "cell_type": "code",
   "execution_count": 72,
   "metadata": {},
   "outputs": [],
   "source": [
    "class WideAndDeepModel(keras.Model):\n",
    "    def __init__(self, units=30, activation=\"relu\", **kwargs):\n",
    "        super().__init__(**kwargs)\n",
    "        self.hidden1 = keras.layers.Dense(units, activation=activation)\n",
    "        self.hidden2 = keras.layers.Dense(units, activation=activation)\n",
    "        self.main_output = keras.layers.Dense(1)\n",
    "        self.aux_output = keras.layers.Dense(1)\n",
    "        \n",
    "    def call(self, inputs):    \n",
    "        # 将初始化方法中层的创建与其在call()方法中的用法分开\n",
    "        input_A, input_B = inputs\n",
    "        hidden1 = self.hidden1(input_B)\n",
    "        hidden2 = self.hidden2(hidden1)\n",
    "        concat = keras.layers.Concatenate()([input_A, hidden2])\n",
    "        main_output = self.main_output(concat)\n",
    "        aux_output = self.aux_output(hidden2)\n",
    "        return main_output, aux_output"
   ]
  },
  {
   "cell_type": "code",
   "execution_count": 73,
   "metadata": {},
   "outputs": [],
   "source": [
    "model = WideAndDeepModel(30, activation=\"relu\")"
   ]
  },
  {
   "cell_type": "code",
   "execution_count": 74,
   "metadata": {
    "scrolled": true
   },
   "outputs": [
    {
     "name": "stdout",
     "output_type": "stream",
     "text": [
      "Epoch 1/20\n",
      "363/363 [==============================] - 0s 1ms/step - loss: 2.2815 - output_1_loss: 2.1649 - output_2_loss: 3.3311 - val_loss: 1.1401 - val_output_1_loss: 1.0046 - val_output_2_loss: 2.3591\n",
      "Epoch 2/20\n",
      "363/363 [==============================] - 0s 995us/step - loss: 0.9850 - output_1_loss: 0.8598 - output_2_loss: 2.1122 - val_loss: 0.8738 - val_output_1_loss: 0.7657 - val_output_2_loss: 1.8463\n",
      "Epoch 3/20\n",
      "363/363 [==============================] - 0s 984us/step - loss: 0.8383 - output_1_loss: 0.7366 - output_2_loss: 1.7538 - val_loss: 0.7927 - val_output_1_loss: 0.6998 - val_output_2_loss: 1.6295\n",
      "Epoch 4/20\n",
      "363/363 [==============================] - 0s 990us/step - loss: 0.7719 - output_1_loss: 0.6814 - output_2_loss: 1.5862 - val_loss: 0.7460 - val_output_1_loss: 0.6628 - val_output_2_loss: 1.4946\n",
      "Epoch 5/20\n",
      "363/363 [==============================] - 0s 983us/step - loss: 0.7288 - output_1_loss: 0.6464 - output_2_loss: 1.4700 - val_loss: 0.7112 - val_output_1_loss: 0.6337 - val_output_2_loss: 1.4094\n",
      "Epoch 6/20\n",
      "363/363 [==============================] - 0s 978us/step - loss: 0.6963 - output_1_loss: 0.6190 - output_2_loss: 1.3925 - val_loss: 0.6874 - val_output_1_loss: 0.6138 - val_output_2_loss: 1.3496\n",
      "Epoch 7/20\n",
      "363/363 [==============================] - 0s 989us/step - loss: 0.6716 - output_1_loss: 0.5980 - output_2_loss: 1.3344 - val_loss: 0.6661 - val_output_1_loss: 0.5959 - val_output_2_loss: 1.2985\n",
      "Epoch 8/20\n",
      "363/363 [==============================] - 0s 986us/step - loss: 0.6517 - output_1_loss: 0.5813 - output_2_loss: 1.2854 - val_loss: 0.6505 - val_output_1_loss: 0.5831 - val_output_2_loss: 1.2566\n",
      "Epoch 9/20\n",
      "363/363 [==============================] - 0s 999us/step - loss: 0.6359 - output_1_loss: 0.5686 - output_2_loss: 1.2415 - val_loss: 0.6375 - val_output_1_loss: 0.5724 - val_output_2_loss: 1.2235\n",
      "Epoch 10/20\n",
      "363/363 [==============================] - 0s 987us/step - loss: 0.6232 - output_1_loss: 0.5582 - output_2_loss: 1.2079 - val_loss: 0.6269 - val_output_1_loss: 0.5640 - val_output_2_loss: 1.1938\n",
      "Epoch 11/20\n",
      "363/363 [==============================] - 0s 983us/step - loss: 0.6121 - output_1_loss: 0.5494 - output_2_loss: 1.1768 - val_loss: 0.6176 - val_output_1_loss: 0.5566 - val_output_2_loss: 1.1661\n",
      "Epoch 12/20\n",
      "363/363 [==============================] - 0s 991us/step - loss: 0.6030 - output_1_loss: 0.5424 - output_2_loss: 1.1483 - val_loss: 0.6097 - val_output_1_loss: 0.5506 - val_output_2_loss: 1.1416\n",
      "Epoch 13/20\n",
      "363/363 [==============================] - 0s 987us/step - loss: 0.5951 - output_1_loss: 0.5364 - output_2_loss: 1.1235 - val_loss: 0.6026 - val_output_1_loss: 0.5451 - val_output_2_loss: 1.1201\n",
      "Epoch 14/20\n",
      "363/363 [==============================] - 0s 985us/step - loss: 0.5884 - output_1_loss: 0.5313 - output_2_loss: 1.1019 - val_loss: 0.5966 - val_output_1_loss: 0.5408 - val_output_2_loss: 1.0986\n",
      "Epoch 15/20\n",
      "363/363 [==============================] - 0s 985us/step - loss: 0.5820 - output_1_loss: 0.5265 - output_2_loss: 1.0808 - val_loss: 0.5923 - val_output_1_loss: 0.5382 - val_output_2_loss: 1.0793\n",
      "Epoch 16/20\n",
      "363/363 [==============================] - 0s 997us/step - loss: 0.5767 - output_1_loss: 0.5229 - output_2_loss: 1.0612 - val_loss: 0.5867 - val_output_1_loss: 0.5339 - val_output_2_loss: 1.0622\n",
      "Epoch 17/20\n",
      "363/363 [==============================] - 0s 995us/step - loss: 0.5712 - output_1_loss: 0.5188 - output_2_loss: 1.0432 - val_loss: 0.5827 - val_output_1_loss: 0.5313 - val_output_2_loss: 1.0458\n",
      "Epoch 18/20\n",
      "363/363 [==============================] - 0s 986us/step - loss: 0.5666 - output_1_loss: 0.5154 - output_2_loss: 1.0266 - val_loss: 0.5779 - val_output_1_loss: 0.5278 - val_output_2_loss: 1.0292\n",
      "Epoch 19/20\n",
      "363/363 [==============================] - 0s 988us/step - loss: 0.5618 - output_1_loss: 0.5121 - output_2_loss: 1.0097 - val_loss: 0.5740 - val_output_1_loss: 0.5250 - val_output_2_loss: 1.0147\n",
      "Epoch 20/20\n",
      "363/363 [==============================] - 0s 982us/step - loss: 0.5572 - output_1_loss: 0.5086 - output_2_loss: 0.9946 - val_loss: 0.5709 - val_output_1_loss: 0.5232 - val_output_2_loss: 0.9996\n"
     ]
    }
   ],
   "source": [
    "model.compile(loss=\"mse\", loss_weights=[0.9, 0.1], optimizer=keras.optimizers.SGD(lr=1e-3))\n",
    "history = model.fit((X_train_A, X_train_B), (y_train, y_train), epochs=20,\n",
    "                    validation_data=((X_valid_A, X_valid_B), (y_valid, y_valid)))"
   ]
  },
  {
   "cell_type": "code",
   "execution_count": 75,
   "metadata": {},
   "outputs": [
    {
     "name": "stdout",
     "output_type": "stream",
     "text": [
      "162/162 [==============================] - 0s 582us/step - loss: 0.5633 - output_1_loss: 0.5173 - output_2_loss: 0.9775\n"
     ]
    }
   ],
   "source": [
    "total_loss, main_loss, aux_loss = model.evaluate((X_test_A, X_test_B), (y_test, y_test))"
   ]
  },
  {
   "cell_type": "code",
   "execution_count": 76,
   "metadata": {},
   "outputs": [
    {
     "name": "stdout",
     "output_type": "stream",
     "text": [
      "WARNING:tensorflow:6 out of the last 8 calls to <function Model.make_predict_function.<locals>.predict_function at 0x7f48f453f4c0> triggered tf.function retracing. Tracing is expensive and the excessive number of tracings could be due to (1) creating @tf.function repeatedly in a loop, (2) passing tensors with different shapes, (3) passing Python objects instead of tensors. For (1), please define your @tf.function outside of the loop. For (2), @tf.function has experimental_relax_shapes=True option that relaxes argument shapes that can avoid unnecessary retracing. For (3), please refer to https://www.tensorflow.org/tutorials/customization/performance#python_or_tensor_args and https://www.tensorflow.org/api_docs/python/tf/function for  more details.\n"
     ]
    }
   ],
   "source": [
    "y_pred_main, y_pred_aux = model.predict((X_new_A, X_new_B))"
   ]
  },
  {
   "cell_type": "code",
   "execution_count": 77,
   "metadata": {},
   "outputs": [
    {
     "data": {
      "text/plain": [
       "(array([[0.7482313],\n",
       "        [1.7205347],\n",
       "        [2.8306065]], dtype=float32),\n",
       " array([[1.3886366],\n",
       "        [1.8565307],\n",
       "        [2.1933615]], dtype=float32))"
      ]
     },
     "execution_count": 77,
     "metadata": {},
     "output_type": "execute_result"
    }
   ],
   "source": [
    "y_pred_main, y_pred_aux"
   ]
  },
  {
   "cell_type": "markdown",
   "metadata": {},
   "source": [
    "# Saving and Restoring"
   ]
  },
  {
   "cell_type": "code",
   "execution_count": 78,
   "metadata": {},
   "outputs": [],
   "source": [
    "np.random.seed(42)\n",
    "tf.random.set_seed(42)"
   ]
  },
  {
   "cell_type": "code",
   "execution_count": 79,
   "metadata": {},
   "outputs": [],
   "source": [
    "model = keras.models.Sequential([\n",
    "    keras.layers.Dense(30, activation=\"relu\", input_shape=[8]),\n",
    "    keras.layers.Dense(30, activation=\"relu\"),\n",
    "    keras.layers.Dense(1)\n",
    "])"
   ]
  },
  {
   "cell_type": "code",
   "execution_count": 80,
   "metadata": {
    "scrolled": true
   },
   "outputs": [
    {
     "name": "stdout",
     "output_type": "stream",
     "text": [
      "Epoch 1/10\n",
      "363/363 [==============================] - 0s 756us/step - loss: 1.8688 - val_loss: 0.7796\n",
      "Epoch 2/10\n",
      "363/363 [==============================] - 0s 645us/step - loss: 0.7040 - val_loss: 0.6453\n",
      "Epoch 3/10\n",
      "363/363 [==============================] - 0s 642us/step - loss: 0.6180 - val_loss: 0.6001\n",
      "Epoch 4/10\n",
      "363/363 [==============================] - 0s 648us/step - loss: 0.5762 - val_loss: 0.5717\n",
      "Epoch 5/10\n",
      "363/363 [==============================] - 0s 638us/step - loss: 0.5496 - val_loss: 0.5476\n",
      "Epoch 6/10\n",
      "363/363 [==============================] - 0s 640us/step - loss: 0.5267 - val_loss: 0.5303\n",
      "Epoch 7/10\n",
      "363/363 [==============================] - 0s 652us/step - loss: 0.5100 - val_loss: 0.5157\n",
      "Epoch 8/10\n",
      "363/363 [==============================] - 0s 650us/step - loss: 0.4960 - val_loss: 0.5045\n",
      "Epoch 9/10\n",
      "363/363 [==============================] - 0s 645us/step - loss: 0.4856 - val_loss: 0.4955\n",
      "Epoch 10/10\n",
      "363/363 [==============================] - 0s 650us/step - loss: 0.4771 - val_loss: 0.4883\n",
      "162/162 [==============================] - 0s 376us/step - loss: 0.4842\n"
     ]
    }
   ],
   "source": [
    "model.compile(loss=\"mse\", optimizer=keras.optimizers.SGD(lr=1e-3))\n",
    "history = model.fit(X_train, y_train, epochs=10, validation_data=(X_valid, y_valid))\n",
    "mse_test = model.evaluate(X_test, y_test)"
   ]
  },
  {
   "cell_type": "code",
   "execution_count": 81,
   "metadata": {},
   "outputs": [],
   "source": [
    "model.save(\"my_keras_model.h5\")"
   ]
  },
  {
   "cell_type": "code",
   "execution_count": 82,
   "metadata": {},
   "outputs": [],
   "source": [
    "model = keras.models.load_model(\"my_keras_model.h5\")"
   ]
  },
  {
   "cell_type": "code",
   "execution_count": 83,
   "metadata": {},
   "outputs": [
    {
     "name": "stdout",
     "output_type": "stream",
     "text": [
      "WARNING:tensorflow:7 out of the last 9 calls to <function Model.make_predict_function.<locals>.predict_function at 0x7f485662a550> triggered tf.function retracing. Tracing is expensive and the excessive number of tracings could be due to (1) creating @tf.function repeatedly in a loop, (2) passing tensors with different shapes, (3) passing Python objects instead of tensors. For (1), please define your @tf.function outside of the loop. For (2), @tf.function has experimental_relax_shapes=True option that relaxes argument shapes that can avoid unnecessary retracing. For (3), please refer to https://www.tensorflow.org/tutorials/customization/performance#python_or_tensor_args and https://www.tensorflow.org/api_docs/python/tf/function for  more details.\n"
     ]
    },
    {
     "data": {
      "text/plain": [
       "array([[0.7036113],\n",
       "       [1.577574 ],\n",
       "       [2.861705 ]], dtype=float32)"
      ]
     },
     "execution_count": 83,
     "metadata": {},
     "output_type": "execute_result"
    }
   ],
   "source": [
    "model.predict(X_new)"
   ]
  },
  {
   "cell_type": "code",
   "execution_count": 84,
   "metadata": {},
   "outputs": [],
   "source": [
    "model.save_weights(\"my_keras_weights.ckpt\")"
   ]
  },
  {
   "cell_type": "code",
   "execution_count": 85,
   "metadata": {},
   "outputs": [
    {
     "data": {
      "text/plain": [
       "<tensorflow.python.training.tracking.util.CheckpointLoadStatus at 0x7f48f43fde20>"
      ]
     },
     "execution_count": 85,
     "metadata": {},
     "output_type": "execute_result"
    }
   ],
   "source": [
    "model.load_weights(\"my_keras_weights.ckpt\")"
   ]
  },
  {
   "cell_type": "markdown",
   "metadata": {},
   "source": [
    "# Using Callbacks during Training"
   ]
  },
  {
   "cell_type": "code",
   "execution_count": 86,
   "metadata": {},
   "outputs": [],
   "source": [
    "keras.backend.clear_session()\n",
    "np.random.seed(42)\n",
    "tf.random.set_seed(42)"
   ]
  },
  {
   "cell_type": "code",
   "execution_count": 87,
   "metadata": {},
   "outputs": [],
   "source": [
    "model = keras.models.Sequential([\n",
    "    keras.layers.Dense(30, activation=\"relu\", input_shape=[8]),\n",
    "    keras.layers.Dense(30, activation=\"relu\"),\n",
    "    keras.layers.Dense(1)\n",
    "])"
   ]
  },
  {
   "cell_type": "code",
   "execution_count": 88,
   "metadata": {},
   "outputs": [],
   "source": [
    "model.compile(loss=\"mse\", optimizer=keras.optimizers.SGD(lr=1e-3))"
   ]
  },
  {
   "cell_type": "code",
   "execution_count": 89,
   "metadata": {},
   "outputs": [],
   "source": [
    "# 在训练期间，ModelCheckpoint回调会定期保存模型的检查点，默认情况下，在每个轮次结束时\n",
    "checkpoint_cb = keras.callbacks.ModelCheckpoint(\"my_keras_model.h5\", save_best_only=True)"
   ]
  },
  {
   "cell_type": "code",
   "execution_count": 90,
   "metadata": {},
   "outputs": [
    {
     "name": "stdout",
     "output_type": "stream",
     "text": [
      "Epoch 1/10\n",
      "363/363 [==============================] - 0s 769us/step - loss: 1.8688 - val_loss: 0.7796\n",
      "Epoch 2/10\n",
      "363/363 [==============================] - 0s 656us/step - loss: 0.7040 - val_loss: 0.6453\n",
      "Epoch 3/10\n",
      "363/363 [==============================] - 0s 664us/step - loss: 0.6180 - val_loss: 0.6001\n",
      "Epoch 4/10\n",
      "363/363 [==============================] - 0s 658us/step - loss: 0.5762 - val_loss: 0.5717\n",
      "Epoch 5/10\n",
      "363/363 [==============================] - 0s 660us/step - loss: 0.5496 - val_loss: 0.5476\n",
      "Epoch 6/10\n",
      "363/363 [==============================] - 0s 665us/step - loss: 0.5267 - val_loss: 0.5303\n",
      "Epoch 7/10\n",
      "363/363 [==============================] - 0s 664us/step - loss: 0.5100 - val_loss: 0.5157\n",
      "Epoch 8/10\n",
      "363/363 [==============================] - 0s 670us/step - loss: 0.4960 - val_loss: 0.5045\n",
      "Epoch 9/10\n",
      "363/363 [==============================] - 0s 652us/step - loss: 0.4856 - val_loss: 0.4955\n",
      "Epoch 10/10\n",
      "363/363 [==============================] - 0s 667us/step - loss: 0.4771 - val_loss: 0.4883\n"
     ]
    }
   ],
   "source": [
    "history = model.fit(X_train, y_train, epochs=10, validation_data=(X_valid, y_valid),\n",
    "                    callbacks=[checkpoint_cb])"
   ]
  },
  {
   "cell_type": "code",
   "execution_count": 91,
   "metadata": {},
   "outputs": [],
   "source": [
    "model = keras.models.load_model(\"my_keras_model.h5\")    # 回滚到最好的模型"
   ]
  },
  {
   "cell_type": "code",
   "execution_count": 92,
   "metadata": {},
   "outputs": [
    {
     "name": "stdout",
     "output_type": "stream",
     "text": [
      "162/162 [==============================] - 0s 371us/step - loss: 0.4842\n"
     ]
    }
   ],
   "source": [
    "mse_test = model.evaluate(X_test, y_test)"
   ]
  },
  {
   "cell_type": "code",
   "execution_count": 93,
   "metadata": {
    "scrolled": true
   },
   "outputs": [
    {
     "name": "stdout",
     "output_type": "stream",
     "text": [
      "Epoch 1/100\n",
      "363/363 [==============================] - 0s 780us/step - loss: 0.4696 - val_loss: 0.4839\n",
      "Epoch 2/100\n",
      "363/363 [==============================] - 0s 662us/step - loss: 0.4642 - val_loss: 0.4775\n",
      "Epoch 3/100\n",
      "363/363 [==============================] - 0s 667us/step - loss: 0.4595 - val_loss: 0.4728\n",
      "Epoch 4/100\n",
      "363/363 [==============================] - 0s 666us/step - loss: 0.4550 - val_loss: 0.4719\n",
      "Epoch 5/100\n",
      "363/363 [==============================] - 0s 671us/step - loss: 0.4533 - val_loss: 0.4663\n",
      "Epoch 6/100\n",
      "363/363 [==============================] - 0s 665us/step - loss: 0.4484 - val_loss: 0.4643\n",
      "Epoch 7/100\n",
      "363/363 [==============================] - 0s 660us/step - loss: 0.4457 - val_loss: 0.4614\n",
      "Epoch 8/100\n",
      "363/363 [==============================] - 0s 658us/step - loss: 0.4428 - val_loss: 0.4594\n",
      "Epoch 9/100\n",
      "363/363 [==============================] - 0s 658us/step - loss: 0.4407 - val_loss: 0.4571\n",
      "Epoch 10/100\n",
      "363/363 [==============================] - 0s 666us/step - loss: 0.4388 - val_loss: 0.4549\n",
      "Epoch 11/100\n",
      "363/363 [==============================] - 0s 657us/step - loss: 0.4363 - val_loss: 0.4533\n",
      "Epoch 12/100\n",
      "363/363 [==============================] - 0s 668us/step - loss: 0.4345 - val_loss: 0.4510\n",
      "Epoch 13/100\n",
      "363/363 [==============================] - 0s 660us/step - loss: 0.4325 - val_loss: 0.4489\n",
      "Epoch 14/100\n",
      "363/363 [==============================] - 0s 664us/step - loss: 0.4307 - val_loss: 0.4476\n",
      "Epoch 15/100\n",
      "363/363 [==============================] - 0s 665us/step - loss: 0.4288 - val_loss: 0.4475\n",
      "Epoch 16/100\n",
      "363/363 [==============================] - 0s 663us/step - loss: 0.4273 - val_loss: 0.4446\n",
      "Epoch 17/100\n",
      "363/363 [==============================] - 0s 653us/step - loss: 0.4253 - val_loss: 0.4450\n",
      "Epoch 18/100\n",
      "363/363 [==============================] - 0s 673us/step - loss: 0.4244 - val_loss: 0.4423\n",
      "Epoch 19/100\n",
      "363/363 [==============================] - 0s 672us/step - loss: 0.4226 - val_loss: 0.4412\n",
      "Epoch 20/100\n",
      "363/363 [==============================] - 0s 639us/step - loss: 0.4211 - val_loss: 0.4415\n",
      "Epoch 21/100\n",
      "363/363 [==============================] - 0s 668us/step - loss: 0.4195 - val_loss: 0.4401\n",
      "Epoch 22/100\n",
      "363/363 [==============================] - 0s 675us/step - loss: 0.4190 - val_loss: 0.4385\n",
      "Epoch 23/100\n",
      "363/363 [==============================] - 0s 674us/step - loss: 0.4170 - val_loss: 0.4369\n",
      "Epoch 24/100\n",
      "363/363 [==============================] - 0s 669us/step - loss: 0.4164 - val_loss: 0.4346\n",
      "Epoch 25/100\n",
      "363/363 [==============================] - 0s 652us/step - loss: 0.4144 - val_loss: 0.4360\n",
      "Epoch 26/100\n",
      "363/363 [==============================] - 0s 650us/step - loss: 0.4139 - val_loss: 0.4349\n",
      "Epoch 27/100\n",
      "363/363 [==============================] - 0s 655us/step - loss: 0.4122 - val_loss: 0.4328\n",
      "Epoch 28/100\n",
      "363/363 [==============================] - 0s 658us/step - loss: 0.4111 - val_loss: 0.4308\n",
      "Epoch 29/100\n",
      "363/363 [==============================] - 0s 651us/step - loss: 0.4098 - val_loss: 0.4313\n",
      "Epoch 30/100\n",
      "363/363 [==============================] - 0s 675us/step - loss: 0.4092 - val_loss: 0.4294\n",
      "Epoch 31/100\n",
      "363/363 [==============================] - 0s 645us/step - loss: 0.4076 - val_loss: 0.4334\n",
      "Epoch 32/100\n",
      "363/363 [==============================] - 0s 653us/step - loss: 0.4079 - val_loss: 0.4288\n",
      "Epoch 33/100\n",
      "363/363 [==============================] - 0s 661us/step - loss: 0.4052 - val_loss: 0.4282\n",
      "Epoch 34/100\n",
      "363/363 [==============================] - 0s 663us/step - loss: 0.4035 - val_loss: 0.4278\n",
      "Epoch 35/100\n",
      "363/363 [==============================] - 0s 661us/step - loss: 0.4049 - val_loss: 0.4252\n",
      "Epoch 36/100\n",
      "363/363 [==============================] - 0s 643us/step - loss: 0.4053 - val_loss: 0.4256\n",
      "Epoch 37/100\n",
      "363/363 [==============================] - 0s 657us/step - loss: 0.4025 - val_loss: 0.4241\n",
      "Epoch 38/100\n",
      "363/363 [==============================] - 0s 659us/step - loss: 0.4024 - val_loss: 0.4224\n",
      "Epoch 39/100\n",
      "363/363 [==============================] - 0s 640us/step - loss: 0.3992 - val_loss: 0.4230\n",
      "Epoch 40/100\n",
      "363/363 [==============================] - 0s 658us/step - loss: 0.3983 - val_loss: 0.4211\n",
      "Epoch 41/100\n",
      "363/363 [==============================] - 0s 649us/step - loss: 0.3970 - val_loss: 0.4196\n",
      "Epoch 42/100\n",
      "363/363 [==============================] - 0s 642us/step - loss: 0.3961 - val_loss: 0.4200\n",
      "Epoch 43/100\n",
      "363/363 [==============================] - 0s 655us/step - loss: 0.3947 - val_loss: 0.4172\n",
      "Epoch 44/100\n",
      "363/363 [==============================] - 0s 667us/step - loss: 0.3942 - val_loss: 0.4157\n",
      "Epoch 45/100\n",
      "363/363 [==============================] - 0s 638us/step - loss: 0.3931 - val_loss: 0.4160\n",
      "Epoch 46/100\n",
      "363/363 [==============================] - 0s 656us/step - loss: 0.3923 - val_loss: 0.4149\n",
      "Epoch 47/100\n",
      "363/363 [==============================] - 0s 670us/step - loss: 0.3912 - val_loss: 0.4145\n",
      "Epoch 48/100\n",
      "363/363 [==============================] - 0s 669us/step - loss: 0.3904 - val_loss: 0.4124\n",
      "Epoch 49/100\n",
      "363/363 [==============================] - 0s 645us/step - loss: 0.3890 - val_loss: 0.4125\n",
      "Epoch 50/100\n",
      "363/363 [==============================] - 0s 650us/step - loss: 0.3884 - val_loss: 0.4132\n",
      "Epoch 51/100\n",
      "363/363 [==============================] - 0s 664us/step - loss: 0.3873 - val_loss: 0.4102\n",
      "Epoch 52/100\n",
      "363/363 [==============================] - 0s 640us/step - loss: 0.3867 - val_loss: 0.4116\n",
      "Epoch 53/100\n",
      "363/363 [==============================] - 0s 655us/step - loss: 0.3859 - val_loss: 0.4083\n",
      "Epoch 54/100\n",
      "363/363 [==============================] - 0s 660us/step - loss: 0.3847 - val_loss: 0.4076\n",
      "Epoch 55/100\n",
      "363/363 [==============================] - 0s 647us/step - loss: 0.3839 - val_loss: 0.4079\n",
      "Epoch 56/100\n",
      "363/363 [==============================] - 0s 665us/step - loss: 0.3831 - val_loss: 0.4063\n",
      "Epoch 57/100\n",
      "363/363 [==============================] - 0s 661us/step - loss: 0.3820 - val_loss: 0.4056\n",
      "Epoch 58/100\n",
      "363/363 [==============================] - 0s 663us/step - loss: 0.3814 - val_loss: 0.4039\n",
      "Epoch 59/100\n",
      "363/363 [==============================] - 0s 657us/step - loss: 0.3805 - val_loss: 0.4035\n",
      "Epoch 60/100\n",
      "363/363 [==============================] - 0s 643us/step - loss: 0.3796 - val_loss: 0.4045\n",
      "Epoch 61/100\n",
      "363/363 [==============================] - 0s 656us/step - loss: 0.3789 - val_loss: 0.4026\n",
      "Epoch 62/100\n",
      "363/363 [==============================] - 0s 648us/step - loss: 0.3779 - val_loss: 0.4042\n",
      "Epoch 63/100\n",
      "363/363 [==============================] - 0s 677us/step - loss: 0.3776 - val_loss: 0.4007\n",
      "Epoch 64/100\n",
      "363/363 [==============================] - 0s 649us/step - loss: 0.3761 - val_loss: 0.4021\n",
      "Epoch 65/100\n",
      "363/363 [==============================] - 0s 651us/step - loss: 0.3755 - val_loss: 0.4012\n",
      "Epoch 66/100\n",
      "363/363 [==============================] - 0s 671us/step - loss: 0.3752 - val_loss: 0.3989\n",
      "Epoch 67/100\n",
      "363/363 [==============================] - 0s 654us/step - loss: 0.3746 - val_loss: 0.3987\n",
      "Epoch 68/100\n",
      "363/363 [==============================] - 0s 656us/step - loss: 0.3729 - val_loss: 0.3997\n",
      "Epoch 69/100\n",
      "363/363 [==============================] - 0s 642us/step - loss: 0.3724 - val_loss: 0.4011\n",
      "Epoch 70/100\n",
      "363/363 [==============================] - 0s 652us/step - loss: 0.3718 - val_loss: 0.3996\n",
      "Epoch 71/100\n",
      "363/363 [==============================] - 0s 662us/step - loss: 0.3712 - val_loss: 0.3953\n",
      "Epoch 72/100\n",
      "363/363 [==============================] - 0s 657us/step - loss: 0.3703 - val_loss: 0.3964\n",
      "Epoch 73/100\n",
      "363/363 [==============================] - 0s 665us/step - loss: 0.3699 - val_loss: 0.3936\n",
      "Epoch 74/100\n",
      "363/363 [==============================] - 0s 651us/step - loss: 0.3698 - val_loss: 0.3940\n",
      "Epoch 75/100\n",
      "363/363 [==============================] - 0s 652us/step - loss: 0.3679 - val_loss: 0.3924\n",
      "Epoch 76/100\n",
      "363/363 [==============================] - 0s 658us/step - loss: 0.3672 - val_loss: 0.3919\n",
      "Epoch 77/100\n",
      "363/363 [==============================] - 0s 665us/step - loss: 0.3664 - val_loss: 0.3915\n",
      "Epoch 78/100\n",
      "363/363 [==============================] - 0s 648us/step - loss: 0.3657 - val_loss: 0.3942\n",
      "Epoch 79/100\n",
      "363/363 [==============================] - 0s 653us/step - loss: 0.3656 - val_loss: 0.3897\n"
     ]
    },
    {
     "name": "stdout",
     "output_type": "stream",
     "text": [
      "Epoch 80/100\n",
      "363/363 [==============================] - 0s 658us/step - loss: 0.3641 - val_loss: 0.3901\n",
      "Epoch 81/100\n",
      "363/363 [==============================] - 0s 650us/step - loss: 0.3640 - val_loss: 0.3884\n",
      "Epoch 82/100\n",
      "363/363 [==============================] - 0s 649us/step - loss: 0.3641 - val_loss: 0.3912\n",
      "Epoch 83/100\n",
      "363/363 [==============================] - 0s 642us/step - loss: 0.3622 - val_loss: 0.3889\n",
      "Epoch 84/100\n",
      "363/363 [==============================] - 0s 667us/step - loss: 0.3621 - val_loss: 0.3879\n",
      "Epoch 85/100\n",
      "363/363 [==============================] - 0s 668us/step - loss: 0.3605 - val_loss: 0.3878\n",
      "Epoch 86/100\n",
      "363/363 [==============================] - 0s 661us/step - loss: 0.3601 - val_loss: 0.3863\n",
      "Epoch 87/100\n",
      "363/363 [==============================] - 0s 668us/step - loss: 0.3592 - val_loss: 0.3851\n",
      "Epoch 88/100\n",
      "363/363 [==============================] - 0s 645us/step - loss: 0.3588 - val_loss: 0.3856\n",
      "Epoch 89/100\n",
      "363/363 [==============================] - 0s 673us/step - loss: 0.3580 - val_loss: 0.3849\n",
      "Epoch 90/100\n",
      "363/363 [==============================] - 0s 647us/step - loss: 0.3582 - val_loss: 0.3891\n",
      "Epoch 91/100\n",
      "363/363 [==============================] - 0s 660us/step - loss: 0.3600 - val_loss: 0.3816\n",
      "Epoch 92/100\n",
      "363/363 [==============================] - 0s 642us/step - loss: 0.3577 - val_loss: 0.3905\n",
      "Epoch 93/100\n",
      "363/363 [==============================] - 0s 646us/step - loss: 0.3576 - val_loss: 0.3831\n",
      "Epoch 94/100\n",
      "363/363 [==============================] - 0s 643us/step - loss: 0.3554 - val_loss: 0.3870\n",
      "Epoch 95/100\n",
      "363/363 [==============================] - 0s 661us/step - loss: 0.3590 - val_loss: 0.3804\n",
      "Epoch 96/100\n",
      "363/363 [==============================] - 0s 645us/step - loss: 0.3551 - val_loss: 0.3897\n",
      "Epoch 97/100\n",
      "363/363 [==============================] - 0s 652us/step - loss: 0.3607 - val_loss: 0.3802\n",
      "Epoch 98/100\n",
      "363/363 [==============================] - 0s 657us/step - loss: 0.3613 - val_loss: 0.3831\n",
      "Epoch 99/100\n",
      "363/363 [==============================] - 0s 674us/step - loss: 0.3541 - val_loss: 0.3783\n",
      "Epoch 100/100\n",
      "363/363 [==============================] - 0s 651us/step - loss: 0.3532 - val_loss: 0.3850\n"
     ]
    }
   ],
   "source": [
    "model.compile(loss=\"mse\", optimizer=keras.optimizers.SGD(lr=1e-3))    # 重新编译一次，继续训练\n",
    "early_stopping_cb = keras.callbacks.EarlyStopping(patience=10, restore_best_weights=True)\n",
    "\n",
    "history = model.fit(X_train, y_train, epochs=100,\n",
    "                    validation_data=(X_valid, y_valid),\n",
    "                    callbacks=[checkpoint_cb, early_stopping_cb])"
   ]
  },
  {
   "cell_type": "code",
   "execution_count": 94,
   "metadata": {},
   "outputs": [],
   "source": [
    "class PrintValTrainRatioCallback(keras.callbacks.Callback):\n",
    "    def on_epoch_end(self, epoch, logs):\n",
    "        print(\"\\nval/train: {:.2f}\".format(logs[\"val_loss\"] / logs[\"loss\"]))"
   ]
  },
  {
   "cell_type": "code",
   "execution_count": 95,
   "metadata": {},
   "outputs": [
    {
     "name": "stdout",
     "output_type": "stream",
     "text": [
      "293/363 [=======================>......] - ETA: 0s - loss: 0.3560\n",
      "val/train: 1.07\n",
      "363/363 [==============================] - 0s 682us/step - loss: 0.3531 - val_loss: 0.3790\n"
     ]
    }
   ],
   "source": [
    "val_train_ratio_cb = PrintValTrainRatioCallback()\n",
    "history = model.fit(X_train, y_train, epochs=1, validation_data=(X_valid, y_valid),\n",
    "                    callbacks=[val_train_ratio_cb])"
   ]
  },
  {
   "cell_type": "markdown",
   "metadata": {},
   "source": [
    "### 用TensorBoard可视化学习曲线"
   ]
  },
  {
   "cell_type": "code",
   "execution_count": 96,
   "metadata": {},
   "outputs": [],
   "source": [
    "import os \n",
    "\n",
    "root_logdir = os.path.join(os.curdir, \"my_logs\")\n",
    "\n",
    "\n",
    "def get_run_logdir():\n",
    "    import time\n",
    "    run_id = time.strftime(\"run_%Y_%m_%d_%H_%M_%S\")\n",
    "    return os.path.join(root_logdir, run_id)"
   ]
  },
  {
   "cell_type": "code",
   "execution_count": 97,
   "metadata": {},
   "outputs": [
    {
     "data": {
      "text/plain": [
       "'./my_logs/run_2020_11_25_14_32_25'"
      ]
     },
     "execution_count": 97,
     "metadata": {},
     "output_type": "execute_result"
    }
   ],
   "source": [
    "run_logdir = get_run_logdir()\n",
    "run_logdir"
   ]
  },
  {
   "cell_type": "code",
   "execution_count": 98,
   "metadata": {},
   "outputs": [],
   "source": [
    "keras.backend.clear_session()\n",
    "np.random.seed(42)\n",
    "tf.random.set_seed(42)"
   ]
  },
  {
   "cell_type": "code",
   "execution_count": 99,
   "metadata": {},
   "outputs": [],
   "source": [
    "model = keras.models.Sequential([\n",
    "    keras.layers.Dense(30, activation=\"relu\", input_shape=[8]),\n",
    "    keras.layers.Dense(30, activation=\"relu\"),\n",
    "    keras.layers.Dense(1)\n",
    "])    \n",
    "model.compile(loss=\"mse\", optimizer=keras.optimizers.SGD(lr=1e-3))"
   ]
  },
  {
   "cell_type": "code",
   "execution_count": 100,
   "metadata": {
    "scrolled": true
   },
   "outputs": [
    {
     "name": "stdout",
     "output_type": "stream",
     "text": [
      "Epoch 1/30\n",
      "  1/363 [..............................] - ETA: 0s - loss: 8.4863WARNING:tensorflow:From /home/coco/ml/env/lib/python3.8/site-packages/tensorflow/python/ops/summary_ops_v2.py:1277: stop (from tensorflow.python.eager.profiler) is deprecated and will be removed after 2020-07-01.\n",
      "Instructions for updating:\n",
      "use `tf.profiler.experimental.stop` instead.\n",
      "WARNING:tensorflow:Callbacks method `on_train_batch_end` is slow compared to the batch time (batch time: 0.0014s vs `on_train_batch_end` time: 0.0044s). Check your callbacks.\n",
      "363/363 [==============================] - 0s 794us/step - loss: 1.8688 - val_loss: 0.7796\n",
      "Epoch 2/30\n",
      "363/363 [==============================] - 0s 655us/step - loss: 0.7040 - val_loss: 0.6453\n",
      "Epoch 3/30\n",
      "363/363 [==============================] - 0s 657us/step - loss: 0.6180 - val_loss: 0.6001\n",
      "Epoch 4/30\n",
      "363/363 [==============================] - 0s 654us/step - loss: 0.5762 - val_loss: 0.5717\n",
      "Epoch 5/30\n",
      "363/363 [==============================] - 0s 647us/step - loss: 0.5496 - val_loss: 0.5476\n",
      "Epoch 6/30\n",
      "363/363 [==============================] - 0s 659us/step - loss: 0.5267 - val_loss: 0.5303\n",
      "Epoch 7/30\n",
      "363/363 [==============================] - 0s 655us/step - loss: 0.5100 - val_loss: 0.5157\n",
      "Epoch 8/30\n",
      "363/363 [==============================] - 0s 648us/step - loss: 0.4960 - val_loss: 0.5045\n",
      "Epoch 9/30\n",
      "363/363 [==============================] - 0s 654us/step - loss: 0.4856 - val_loss: 0.4955\n",
      "Epoch 10/30\n",
      "363/363 [==============================] - 0s 658us/step - loss: 0.4771 - val_loss: 0.4883\n",
      "Epoch 11/30\n",
      "363/363 [==============================] - 0s 653us/step - loss: 0.4698 - val_loss: 0.4830\n",
      "Epoch 12/30\n",
      "363/363 [==============================] - 0s 651us/step - loss: 0.4642 - val_loss: 0.4779\n",
      "Epoch 13/30\n",
      "363/363 [==============================] - 0s 655us/step - loss: 0.4593 - val_loss: 0.4732\n",
      "Epoch 14/30\n",
      "363/363 [==============================] - 0s 655us/step - loss: 0.4553 - val_loss: 0.4700\n",
      "Epoch 15/30\n",
      "363/363 [==============================] - 0s 647us/step - loss: 0.4515 - val_loss: 0.4683\n",
      "Epoch 16/30\n",
      "363/363 [==============================] - 0s 653us/step - loss: 0.4485 - val_loss: 0.4639\n",
      "Epoch 17/30\n",
      "363/363 [==============================] - 0s 648us/step - loss: 0.4454 - val_loss: 0.4632\n",
      "Epoch 18/30\n",
      "363/363 [==============================] - 0s 663us/step - loss: 0.4434 - val_loss: 0.4593\n",
      "Epoch 19/30\n",
      "363/363 [==============================] - 0s 656us/step - loss: 0.4408 - val_loss: 0.4570\n",
      "Epoch 20/30\n",
      "363/363 [==============================] - 0s 655us/step - loss: 0.4384 - val_loss: 0.4562\n",
      "Epoch 21/30\n",
      "363/363 [==============================] - 0s 665us/step - loss: 0.4361 - val_loss: 0.4541\n",
      "Epoch 22/30\n",
      "363/363 [==============================] - 0s 650us/step - loss: 0.4348 - val_loss: 0.4515\n",
      "Epoch 23/30\n",
      "363/363 [==============================] - 0s 641us/step - loss: 0.4323 - val_loss: 0.4499\n",
      "Epoch 24/30\n",
      "363/363 [==============================] - 0s 645us/step - loss: 0.4311 - val_loss: 0.4470\n",
      "Epoch 25/30\n",
      "363/363 [==============================] - 0s 644us/step - loss: 0.4286 - val_loss: 0.4475\n",
      "Epoch 26/30\n",
      "363/363 [==============================] - 0s 700us/step - loss: 0.4275 - val_loss: 0.4462\n",
      "Epoch 27/30\n",
      "363/363 [==============================] - 0s 649us/step - loss: 0.4255 - val_loss: 0.4436\n",
      "Epoch 28/30\n",
      "363/363 [==============================] - 0s 648us/step - loss: 0.4241 - val_loss: 0.4415\n",
      "Epoch 29/30\n",
      "363/363 [==============================] - 0s 653us/step - loss: 0.4225 - val_loss: 0.4417\n",
      "Epoch 30/30\n",
      "363/363 [==============================] - 0s 643us/step - loss: 0.4215 - val_loss: 0.4397\n"
     ]
    }
   ],
   "source": [
    "tensorboard_cb = keras.callbacks.TensorBoard(run_logdir)\n",
    "history = model.fit(X_train, y_train, epochs=30, validation_data=(X_valid, y_valid), \n",
    "                    callbacks=[checkpoint_cb, tensorboard_cb])"
   ]
  },
  {
   "cell_type": "code",
   "execution_count": 101,
   "metadata": {},
   "outputs": [
    {
     "data": {
      "text/plain": [
       "'./my_logs/run_2020_11_25_14_32_32'"
      ]
     },
     "execution_count": 101,
     "metadata": {},
     "output_type": "execute_result"
    }
   ],
   "source": [
    "run_logdir2 = get_run_logdir()\n",
    "run_logdir2"
   ]
  },
  {
   "cell_type": "code",
   "execution_count": 102,
   "metadata": {},
   "outputs": [],
   "source": [
    "keras.backend.clear_session()"
   ]
  },
  {
   "cell_type": "code",
   "execution_count": 103,
   "metadata": {},
   "outputs": [],
   "source": [
    "model = keras.models.Sequential([\n",
    "    keras.layers.Dense(30, activation=\"relu\", input_shape=[8]),\n",
    "    keras.layers.Dense(30, activation=\"relu\"),\n",
    "    keras.layers.Dense(1)\n",
    "])    \n",
    "model.compile(loss=\"mse\", optimizer=keras.optimizers.SGD(lr=0.05))"
   ]
  },
  {
   "cell_type": "code",
   "execution_count": 104,
   "metadata": {
    "scrolled": true
   },
   "outputs": [
    {
     "name": "stdout",
     "output_type": "stream",
     "text": [
      "Epoch 1/30\n",
      "  1/363 [..............................] - ETA: 0s - loss: 5.1345WARNING:tensorflow:Callbacks method `on_train_batch_end` is slow compared to the batch time (batch time: 0.0007s vs `on_train_batch_end` time: 0.0120s). Check your callbacks.\n",
      "363/363 [==============================] - 0s 803us/step - loss: 1.2013 - val_loss: 3.2912\n",
      "Epoch 2/30\n",
      "363/363 [==============================] - 0s 655us/step - loss: 0.6094 - val_loss: 0.4399\n",
      "Epoch 3/30\n",
      "363/363 [==============================] - 0s 648us/step - loss: 0.4041 - val_loss: 0.4147\n",
      "Epoch 4/30\n",
      "363/363 [==============================] - 0s 652us/step - loss: 0.3840 - val_loss: 0.3808\n",
      "Epoch 5/30\n",
      "363/363 [==============================] - 0s 654us/step - loss: 0.3716 - val_loss: 0.3830\n",
      "Epoch 6/30\n",
      "363/363 [==============================] - 0s 670us/step - loss: 0.3627 - val_loss: 0.3702\n",
      "Epoch 7/30\n",
      "363/363 [==============================] - 0s 670us/step - loss: 0.3540 - val_loss: 0.3529\n",
      "Epoch 8/30\n",
      "363/363 [==============================] - 0s 654us/step - loss: 0.3478 - val_loss: 0.3876\n",
      "Epoch 9/30\n",
      "363/363 [==============================] - 0s 654us/step - loss: 0.3396 - val_loss: 0.3699\n",
      "Epoch 10/30\n",
      "363/363 [==============================] - 0s 651us/step - loss: 0.3370 - val_loss: 0.3930\n",
      "Epoch 11/30\n",
      "363/363 [==============================] - 0s 669us/step - loss: 0.3328 - val_loss: 0.3686\n",
      "Epoch 12/30\n",
      "363/363 [==============================] - 0s 670us/step - loss: 0.3297 - val_loss: 0.3515\n",
      "Epoch 13/30\n",
      "363/363 [==============================] - 0s 669us/step - loss: 0.3220 - val_loss: 0.3718\n",
      "Epoch 14/30\n",
      "363/363 [==============================] - 0s 659us/step - loss: 0.3195 - val_loss: 0.3743\n",
      "Epoch 15/30\n",
      "363/363 [==============================] - 0s 660us/step - loss: 0.3189 - val_loss: 0.4277\n",
      "Epoch 16/30\n",
      "363/363 [==============================] - 0s 653us/step - loss: 0.3125 - val_loss: 0.3263\n",
      "Epoch 17/30\n",
      "363/363 [==============================] - 0s 653us/step - loss: 0.3153 - val_loss: 0.3317\n",
      "Epoch 18/30\n",
      "363/363 [==============================] - 0s 667us/step - loss: 0.3081 - val_loss: 0.3239\n",
      "Epoch 19/30\n",
      "363/363 [==============================] - 0s 655us/step - loss: 0.3119 - val_loss: 0.3377\n",
      "Epoch 20/30\n",
      "363/363 [==============================] - 0s 657us/step - loss: 0.3063 - val_loss: 0.3261\n",
      "Epoch 21/30\n",
      "363/363 [==============================] - 0s 656us/step - loss: 0.3042 - val_loss: 0.3349\n",
      "Epoch 22/30\n",
      "363/363 [==============================] - 0s 653us/step - loss: 0.3021 - val_loss: 0.3605\n",
      "Epoch 23/30\n",
      "363/363 [==============================] - 0s 649us/step - loss: 0.2998 - val_loss: 0.3326\n",
      "Epoch 24/30\n",
      "363/363 [==============================] - 0s 661us/step - loss: 0.2992 - val_loss: 0.3174\n",
      "Epoch 25/30\n",
      "363/363 [==============================] - 0s 663us/step - loss: 0.2932 - val_loss: 0.3211\n",
      "Epoch 26/30\n",
      "363/363 [==============================] - 0s 663us/step - loss: 0.2979 - val_loss: 0.3219\n",
      "Epoch 27/30\n",
      "363/363 [==============================] - 0s 657us/step - loss: 0.2960 - val_loss: 0.3569\n",
      "Epoch 28/30\n",
      "363/363 [==============================] - 0s 652us/step - loss: 0.2947 - val_loss: 0.3680\n",
      "Epoch 29/30\n",
      "363/363 [==============================] - 0s 650us/step - loss: 0.2950 - val_loss: 0.3200\n",
      "Epoch 30/30\n",
      "363/363 [==============================] - 0s 662us/step - loss: 0.2925 - val_loss: 0.3348\n"
     ]
    }
   ],
   "source": [
    "tensorboard_cb = keras.callbacks.TensorBoard(run_logdir2)\n",
    "history = model.fit(X_train, y_train, epochs=30,\n",
    "                    validation_data=(X_valid, y_valid),\n",
    "                    callbacks=[checkpoint_cb, tensorboard_cb])"
   ]
  },
  {
   "cell_type": "markdown",
   "metadata": {},
   "source": [
    "Notice how TensorBoard now sees two runs, and you can compare the learning curves."
   ]
  },
  {
   "cell_type": "code",
   "execution_count": 105,
   "metadata": {},
   "outputs": [
    {
     "name": "stdout",
     "output_type": "stream",
     "text": [
      "Help on function __init__ in module tensorflow.python.keras.callbacks:\n",
      "\n",
      "__init__(self, log_dir='logs', histogram_freq=0, write_graph=True, write_images=False, update_freq='epoch', profile_batch=2, embeddings_freq=0, embeddings_metadata=None, **kwargs)\n",
      "    Initialize self.  See help(type(self)) for accurate signature.\n",
      "\n"
     ]
    }
   ],
   "source": [
    "help(keras.callbacks.TensorBoard.__init__)"
   ]
  },
  {
   "cell_type": "code",
   "execution_count": 106,
   "metadata": {},
   "outputs": [
    {
     "data": {
      "text/plain": [
       "'./my_logs/run_2020_11_25_14_32_40'"
      ]
     },
     "execution_count": 106,
     "metadata": {},
     "output_type": "execute_result"
    }
   ],
   "source": [
    "test_logdir = get_run_logdir()\n",
    "test_logdir"
   ]
  },
  {
   "cell_type": "code",
   "execution_count": 107,
   "metadata": {},
   "outputs": [],
   "source": [
    "writer = tf.summary.create_file_writer(test_logdir)\n",
    "with writer.as_default():\n",
    "    for step in range(1, 1000+1):\n",
    "        tf.summary.scalar(\"my_scalar\", np.sin(step / 10), step=step)\n",
    "        data = (np.random.randn(100) + 2) * step /100 # some random data\n",
    "        tf.summary.histogram(\"my_hist\", data, buckets=50, step=step)\n",
    "        images = np.random.rand(2, 32, 32, 3) # random 32x32 RGB images\n",
    "        tf.summary.image(\"my_images\", images * step / 1000, step=step)\n",
    "        texts = [\"The step is \" + str(step), \"Its sqare is \" + str(step**2)]\n",
    "        tf.summary.text(\"my_text\", texts, step=step)\n",
    "        sine_wave = tf.math.sin(tf.range(12000) / 48000 * 2 * np.pi * step)\n",
    "        audio = tf.reshape(tf.cast(sine_wave, tf.float32), [1, -1, 1])\n",
    "        tf.summary.audio(\"my_audio\", audio, sample_rate=48000, step=step)"
   ]
  },
  {
   "cell_type": "code",
   "execution_count": 1,
   "metadata": {},
   "outputs": [
    {
     "data": {
      "text/html": [
       "\n",
       "      <iframe id=\"tensorboard-frame-a4563214457bf763\" width=\"100%\" height=\"800\" frameborder=\"0\">\n",
       "      </iframe>\n",
       "      <script>\n",
       "        (function() {\n",
       "          const frame = document.getElementById(\"tensorboard-frame-a4563214457bf763\");\n",
       "          const url = new URL(\"/\", window.location);\n",
       "          const port = 6006;\n",
       "          if (port) {\n",
       "            url.port = port;\n",
       "          }\n",
       "          frame.src = url;\n",
       "        })();\n",
       "      </script>\n",
       "    "
      ],
      "text/plain": [
       "<IPython.core.display.HTML object>"
      ]
     },
     "metadata": {},
     "output_type": "display_data"
    }
   ],
   "source": [
    "%load_ext tensorboard\n",
    "%tensorboard --logdir=./my_logs --port=6006"
   ]
  },
  {
   "cell_type": "markdown",
   "metadata": {},
   "source": [
    "# Hyperparameter Tuning"
   ]
  },
  {
   "cell_type": "code",
   "execution_count": 109,
   "metadata": {},
   "outputs": [],
   "source": [
    "keras.backend.clear_session()\n",
    "np.random.seed(42)\n",
    "tf.random.set_seed(42)"
   ]
  },
  {
   "cell_type": "code",
   "execution_count": 110,
   "metadata": {},
   "outputs": [],
   "source": [
    "def build_model(n_hidden=1, n_neurons=30, learning_rate=3e-3, input_shape=[8]):\n",
    "    model = keras.models.Sequential()\n",
    "    model.add(keras.layers.InputLayer(input_shape=input_shape))\n",
    "    for layer in range(n_hidden):\n",
    "        model.add(keras.layers.Dense(n_neurons, activation=\"relu\"))\n",
    "    model.add(keras.layers.Dense(1))\n",
    "    optimizer = keras.optimizers.SGD(lr=learning_rate)\n",
    "    model.compile(loss=\"mse\", optimizer=optimizer)\n",
    "    return model"
   ]
  },
  {
   "cell_type": "code",
   "execution_count": 111,
   "metadata": {},
   "outputs": [],
   "source": [
    "keras_reg = keras.wrappers.scikit_learn.KerasRegressor(build_model)"
   ]
  },
  {
   "cell_type": "code",
   "execution_count": 112,
   "metadata": {
    "scrolled": true
   },
   "outputs": [
    {
     "name": "stdout",
     "output_type": "stream",
     "text": [
      "Epoch 1/100\n",
      "363/363 [==============================] - 0s 726us/step - loss: 1.0566 - val_loss: 0.7676\n",
      "Epoch 2/100\n",
      "363/363 [==============================] - 0s 639us/step - loss: 0.6914 - val_loss: 0.6127\n",
      "Epoch 3/100\n",
      "363/363 [==============================] - 0s 633us/step - loss: 0.5818 - val_loss: 0.5436\n",
      "Epoch 4/100\n",
      "363/363 [==============================] - 0s 601us/step - loss: 0.5167 - val_loss: 0.5164\n",
      "Epoch 5/100\n",
      "363/363 [==============================] - 0s 597us/step - loss: 0.4896 - val_loss: 0.4981\n",
      "Epoch 6/100\n",
      "363/363 [==============================] - 0s 611us/step - loss: 0.4758 - val_loss: 0.4882\n",
      "Epoch 7/100\n",
      "363/363 [==============================] - 0s 601us/step - loss: 0.4662 - val_loss: 0.4783\n",
      "Epoch 8/100\n",
      "363/363 [==============================] - 0s 618us/step - loss: 0.4583 - val_loss: 0.4724\n",
      "Epoch 9/100\n",
      "363/363 [==============================] - 0s 614us/step - loss: 0.4525 - val_loss: 0.4673\n",
      "Epoch 10/100\n",
      "363/363 [==============================] - 0s 617us/step - loss: 0.4481 - val_loss: 0.4630\n",
      "Epoch 11/100\n",
      "363/363 [==============================] - 0s 605us/step - loss: 0.4435 - val_loss: 0.4597\n",
      "Epoch 12/100\n",
      "363/363 [==============================] - 0s 607us/step - loss: 0.4399 - val_loss: 0.4560\n",
      "Epoch 13/100\n",
      "363/363 [==============================] - 0s 610us/step - loss: 0.4364 - val_loss: 0.4529\n",
      "Epoch 14/100\n",
      "363/363 [==============================] - 0s 613us/step - loss: 0.4335 - val_loss: 0.4505\n",
      "Epoch 15/100\n",
      "363/363 [==============================] - 0s 621us/step - loss: 0.4306 - val_loss: 0.4510\n",
      "Epoch 16/100\n",
      "363/363 [==============================] - 0s 615us/step - loss: 0.4282 - val_loss: 0.4456\n",
      "Epoch 17/100\n",
      "363/363 [==============================] - 0s 596us/step - loss: 0.4255 - val_loss: 0.4473\n",
      "Epoch 18/100\n",
      "363/363 [==============================] - 0s 612us/step - loss: 0.4234 - val_loss: 0.4418\n",
      "Epoch 19/100\n",
      "363/363 [==============================] - 0s 615us/step - loss: 0.4210 - val_loss: 0.4411\n",
      "Epoch 20/100\n",
      "363/363 [==============================] - 0s 611us/step - loss: 0.4187 - val_loss: 0.4401\n",
      "Epoch 21/100\n",
      "363/363 [==============================] - 0s 603us/step - loss: 0.4167 - val_loss: 0.4370\n",
      "Epoch 22/100\n",
      "363/363 [==============================] - 0s 611us/step - loss: 0.4149 - val_loss: 0.4357\n",
      "Epoch 23/100\n",
      "363/363 [==============================] - 0s 602us/step - loss: 0.4123 - val_loss: 0.4323\n",
      "Epoch 24/100\n",
      "363/363 [==============================] - 0s 620us/step - loss: 0.4110 - val_loss: 0.4305\n",
      "Epoch 25/100\n",
      "363/363 [==============================] - 0s 600us/step - loss: 0.4086 - val_loss: 0.4330\n",
      "Epoch 26/100\n",
      "363/363 [==============================] - 0s 614us/step - loss: 0.4072 - val_loss: 0.4328\n",
      "Epoch 27/100\n",
      "363/363 [==============================] - 0s 603us/step - loss: 0.4052 - val_loss: 0.4283\n",
      "Epoch 28/100\n",
      "363/363 [==============================] - 0s 598us/step - loss: 0.4038 - val_loss: 0.4257\n",
      "Epoch 29/100\n",
      "363/363 [==============================] - 0s 601us/step - loss: 0.4019 - val_loss: 0.4257\n",
      "Epoch 30/100\n",
      "363/363 [==============================] - 0s 606us/step - loss: 0.4002 - val_loss: 0.4228\n",
      "Epoch 31/100\n",
      "363/363 [==============================] - 0s 602us/step - loss: 0.3979 - val_loss: 0.4255\n",
      "Epoch 32/100\n",
      "363/363 [==============================] - 0s 607us/step - loss: 0.3973 - val_loss: 0.4240\n",
      "Epoch 33/100\n",
      "363/363 [==============================] - 0s 600us/step - loss: 0.3950 - val_loss: 0.4246\n",
      "Epoch 34/100\n",
      "363/363 [==============================] - 0s 602us/step - loss: 0.3932 - val_loss: 0.4214\n",
      "Epoch 35/100\n",
      "363/363 [==============================] - 0s 600us/step - loss: 0.3926 - val_loss: 0.4184\n",
      "Epoch 36/100\n",
      "363/363 [==============================] - 0s 611us/step - loss: 0.3916 - val_loss: 0.4168\n",
      "Epoch 37/100\n",
      "363/363 [==============================] - 0s 610us/step - loss: 0.3896 - val_loss: 0.4176\n",
      "Epoch 38/100\n",
      "363/363 [==============================] - 0s 615us/step - loss: 0.3887 - val_loss: 0.4149\n",
      "Epoch 39/100\n",
      "363/363 [==============================] - 0s 615us/step - loss: 0.3865 - val_loss: 0.4159\n",
      "Epoch 40/100\n",
      "363/363 [==============================] - 0s 619us/step - loss: 0.3853 - val_loss: 0.4160\n",
      "Epoch 41/100\n",
      "363/363 [==============================] - 0s 610us/step - loss: 0.3835 - val_loss: 0.4110\n",
      "Epoch 42/100\n",
      "363/363 [==============================] - 0s 616us/step - loss: 0.3824 - val_loss: 0.4133\n",
      "Epoch 43/100\n",
      "363/363 [==============================] - 0s 616us/step - loss: 0.3810 - val_loss: 0.4092\n",
      "Epoch 44/100\n",
      "363/363 [==============================] - 0s 606us/step - loss: 0.3802 - val_loss: 0.4074\n",
      "Epoch 45/100\n",
      "363/363 [==============================] - 0s 606us/step - loss: 0.3790 - val_loss: 0.4083\n",
      "Epoch 46/100\n",
      "363/363 [==============================] - 0s 600us/step - loss: 0.3779 - val_loss: 0.4059\n",
      "Epoch 47/100\n",
      "363/363 [==============================] - 0s 609us/step - loss: 0.3767 - val_loss: 0.4073\n",
      "Epoch 48/100\n",
      "363/363 [==============================] - 0s 612us/step - loss: 0.3752 - val_loss: 0.4068\n",
      "Epoch 49/100\n",
      "363/363 [==============================] - 0s 608us/step - loss: 0.3743 - val_loss: 0.4040\n",
      "Epoch 50/100\n",
      "363/363 [==============================] - 0s 614us/step - loss: 0.3736 - val_loss: 0.4052\n",
      "Epoch 51/100\n",
      "363/363 [==============================] - 0s 599us/step - loss: 0.3724 - val_loss: 0.4045\n",
      "Epoch 52/100\n",
      "363/363 [==============================] - 0s 611us/step - loss: 0.3714 - val_loss: 0.4040\n",
      "Epoch 53/100\n",
      "363/363 [==============================] - 0s 632us/step - loss: 0.3707 - val_loss: 0.3996\n",
      "Epoch 54/100\n",
      "363/363 [==============================] - 0s 608us/step - loss: 0.3697 - val_loss: 0.3996\n",
      "Epoch 55/100\n",
      "363/363 [==============================] - 0s 614us/step - loss: 0.3687 - val_loss: 0.4026\n",
      "Epoch 56/100\n",
      "363/363 [==============================] - 0s 604us/step - loss: 0.3678 - val_loss: 0.3986\n",
      "Epoch 57/100\n",
      "363/363 [==============================] - 0s 602us/step - loss: 0.3667 - val_loss: 0.3969\n",
      "Epoch 58/100\n",
      "363/363 [==============================] - 0s 619us/step - loss: 0.3661 - val_loss: 0.3963\n",
      "Epoch 59/100\n",
      "363/363 [==============================] - 0s 603us/step - loss: 0.3647 - val_loss: 0.3968\n",
      "Epoch 60/100\n",
      "363/363 [==============================] - 0s 604us/step - loss: 0.3643 - val_loss: 0.3971\n",
      "Epoch 61/100\n",
      "363/363 [==============================] - 0s 604us/step - loss: 0.3633 - val_loss: 0.3961\n",
      "Epoch 62/100\n",
      "363/363 [==============================] - 0s 609us/step - loss: 0.3621 - val_loss: 0.3965\n",
      "Epoch 63/100\n",
      "363/363 [==============================] - 0s 618us/step - loss: 0.3616 - val_loss: 0.3936\n",
      "Epoch 64/100\n",
      "363/363 [==============================] - 0s 617us/step - loss: 0.3607 - val_loss: 0.3957\n",
      "Epoch 65/100\n",
      "363/363 [==============================] - 0s 615us/step - loss: 0.3602 - val_loss: 0.3944\n",
      "Epoch 66/100\n",
      "363/363 [==============================] - 0s 603us/step - loss: 0.3594 - val_loss: 0.3932\n",
      "Epoch 67/100\n",
      "363/363 [==============================] - 0s 605us/step - loss: 0.3592 - val_loss: 0.3929\n",
      "Epoch 68/100\n",
      "363/363 [==============================] - 0s 615us/step - loss: 0.3580 - val_loss: 0.3963\n",
      "Epoch 69/100\n",
      "363/363 [==============================] - 0s 610us/step - loss: 0.3575 - val_loss: 0.3965\n",
      "Epoch 70/100\n",
      "363/363 [==============================] - 0s 606us/step - loss: 0.3564 - val_loss: 0.3975\n",
      "Epoch 71/100\n",
      "363/363 [==============================] - 0s 611us/step - loss: 0.3564 - val_loss: 0.3914\n",
      "Epoch 72/100\n",
      "363/363 [==============================] - 0s 610us/step - loss: 0.3556 - val_loss: 0.3908\n",
      "Epoch 73/100\n",
      "363/363 [==============================] - 0s 617us/step - loss: 0.3547 - val_loss: 0.3895\n",
      "Epoch 74/100\n",
      "363/363 [==============================] - 0s 626us/step - loss: 0.3542 - val_loss: 0.3893\n",
      "Epoch 75/100\n",
      "363/363 [==============================] - 0s 610us/step - loss: 0.3534 - val_loss: 0.3879\n",
      "Epoch 76/100\n",
      "363/363 [==============================] - 0s 618us/step - loss: 0.3528 - val_loss: 0.3877\n",
      "Epoch 77/100\n",
      "363/363 [==============================] - 0s 615us/step - loss: 0.3527 - val_loss: 0.3906\n",
      "Epoch 78/100\n",
      "363/363 [==============================] - 0s 606us/step - loss: 0.3519 - val_loss: 0.3880\n",
      "Epoch 79/100\n",
      "363/363 [==============================] - 0s 598us/step - loss: 0.3513 - val_loss: 0.3885\n"
     ]
    },
    {
     "name": "stdout",
     "output_type": "stream",
     "text": [
      "Epoch 80/100\n",
      "363/363 [==============================] - 0s 610us/step - loss: 0.3505 - val_loss: 0.3862\n",
      "Epoch 81/100\n",
      "363/363 [==============================] - 0s 607us/step - loss: 0.3497 - val_loss: 0.3864\n",
      "Epoch 82/100\n",
      "363/363 [==============================] - 0s 608us/step - loss: 0.3492 - val_loss: 0.3913\n",
      "Epoch 83/100\n",
      "363/363 [==============================] - 0s 615us/step - loss: 0.3492 - val_loss: 0.3876\n",
      "Epoch 84/100\n",
      "363/363 [==============================] - 0s 599us/step - loss: 0.3484 - val_loss: 0.3862\n",
      "Epoch 85/100\n",
      "363/363 [==============================] - 0s 610us/step - loss: 0.3475 - val_loss: 0.3927\n"
     ]
    },
    {
     "data": {
      "text/plain": [
       "<tensorflow.python.keras.callbacks.History at 0x7f483a6293a0>"
      ]
     },
     "execution_count": 112,
     "metadata": {},
     "output_type": "execute_result"
    }
   ],
   "source": [
    "keras_reg.fit(X_train, y_train, epochs=100, validation_data=(X_valid, y_valid), \n",
    "             callbacks=[keras.callbacks.EarlyStopping(patience=5)])"
   ]
  },
  {
   "cell_type": "code",
   "execution_count": 113,
   "metadata": {},
   "outputs": [
    {
     "name": "stdout",
     "output_type": "stream",
     "text": [
      "162/162 [==============================] - 0s 369us/step - loss: 0.3845\n"
     ]
    }
   ],
   "source": [
    "mse_test = keras_reg.score(X_test, y_test)"
   ]
  },
  {
   "cell_type": "code",
   "execution_count": 114,
   "metadata": {},
   "outputs": [
    {
     "name": "stdout",
     "output_type": "stream",
     "text": [
      "WARNING:tensorflow:8 out of the last 10 calls to <function Model.make_predict_function.<locals>.predict_function at 0x7f48388f5dc0> triggered tf.function retracing. Tracing is expensive and the excessive number of tracings could be due to (1) creating @tf.function repeatedly in a loop, (2) passing tensors with different shapes, (3) passing Python objects instead of tensors. For (1), please define your @tf.function outside of the loop. For (2), @tf.function has experimental_relax_shapes=True option that relaxes argument shapes that can avoid unnecessary retracing. For (3), please refer to https://www.tensorflow.org/tutorials/customization/performance#python_or_tensor_args and https://www.tensorflow.org/api_docs/python/tf/function for  more details.\n"
     ]
    }
   ],
   "source": [
    "y_pred = keras_reg.predict(X_new)"
   ]
  },
  {
   "cell_type": "code",
   "execution_count": 115,
   "metadata": {},
   "outputs": [
    {
     "data": {
      "text/plain": [
       "array([0.40527728, 1.647773  , 3.671518  ], dtype=float32)"
      ]
     },
     "execution_count": 115,
     "metadata": {},
     "output_type": "execute_result"
    }
   ],
   "source": [
    "y_pred"
   ]
  },
  {
   "cell_type": "code",
   "execution_count": 119,
   "metadata": {
    "scrolled": true
   },
   "outputs": [
    {
     "name": "stdout",
     "output_type": "stream",
     "text": [
      "Fitting 3 folds for each of 2 candidates, totalling 6 fits\n",
      "[CV] learning_rate=0.0006154014789262348, n_hidden=2, n_neurons=87 ...\n",
      "Epoch 1/30\n",
      "\r",
      "  1/242 [..............................] - ETA: 0s - loss: 6.5769"
     ]
    },
    {
     "name": "stderr",
     "output_type": "stream",
     "text": [
      "[Parallel(n_jobs=1)]: Using backend SequentialBackend with 1 concurrent workers.\n"
     ]
    },
    {
     "name": "stdout",
     "output_type": "stream",
     "text": [
      "242/242 [==============================] - 0s 990us/step - loss: 2.8879 - val_loss: 1.4740\n",
      "Epoch 2/30\n",
      "242/242 [==============================] - 0s 761us/step - loss: 1.0748 - val_loss: 0.9983\n",
      "Epoch 3/30\n",
      "242/242 [==============================] - 0s 752us/step - loss: 0.8560 - val_loss: 0.8267\n",
      "Epoch 4/30\n",
      "242/242 [==============================] - 0s 757us/step - loss: 0.7725 - val_loss: 0.7627\n",
      "Epoch 5/30\n",
      "242/242 [==============================] - 0s 770us/step - loss: 0.7294 - val_loss: 0.7278\n",
      "Epoch 6/30\n",
      "242/242 [==============================] - 0s 810us/step - loss: 0.7007 - val_loss: 0.7013\n",
      "Epoch 7/30\n",
      "242/242 [==============================] - 0s 778us/step - loss: 0.6780 - val_loss: 0.6797\n",
      "Epoch 8/30\n",
      "242/242 [==============================] - 0s 772us/step - loss: 0.6589 - val_loss: 0.6611\n",
      "Epoch 9/30\n",
      "242/242 [==============================] - 0s 783us/step - loss: 0.6420 - val_loss: 0.6444\n",
      "Epoch 10/30\n",
      "242/242 [==============================] - 0s 849us/step - loss: 0.6268 - val_loss: 0.6302\n",
      "Epoch 11/30\n",
      "242/242 [==============================] - 0s 1ms/step - loss: 0.6130 - val_loss: 0.6164\n",
      "Epoch 12/30\n",
      "242/242 [==============================] - 0s 753us/step - loss: 0.6005 - val_loss: 0.6040\n",
      "Epoch 13/30\n",
      "242/242 [==============================] - 0s 848us/step - loss: 0.5888 - val_loss: 0.5928\n",
      "Epoch 14/30\n",
      "242/242 [==============================] - 0s 743us/step - loss: 0.5781 - val_loss: 0.5823\n",
      "Epoch 15/30\n",
      "242/242 [==============================] - 0s 743us/step - loss: 0.5681 - val_loss: 0.5734\n",
      "Epoch 16/30\n",
      "242/242 [==============================] - 0s 755us/step - loss: 0.5588 - val_loss: 0.5648\n",
      "Epoch 17/30\n",
      "242/242 [==============================] - 0s 743us/step - loss: 0.5501 - val_loss: 0.5565\n",
      "Epoch 18/30\n",
      "242/242 [==============================] - 0s 750us/step - loss: 0.5422 - val_loss: 0.5488\n",
      "Epoch 19/30\n",
      "242/242 [==============================] - 0s 754us/step - loss: 0.5344 - val_loss: 0.5444\n",
      "Epoch 20/30\n",
      "242/242 [==============================] - 0s 762us/step - loss: 0.5278 - val_loss: 0.5354\n",
      "Epoch 21/30\n",
      "242/242 [==============================] - 0s 739us/step - loss: 0.5212 - val_loss: 0.5292\n",
      "Epoch 22/30\n",
      "242/242 [==============================] - 0s 753us/step - loss: 0.5151 - val_loss: 0.5240\n",
      "Epoch 23/30\n",
      "242/242 [==============================] - 0s 777us/step - loss: 0.5094 - val_loss: 0.5189\n",
      "Epoch 24/30\n",
      "242/242 [==============================] - 0s 783us/step - loss: 0.5040 - val_loss: 0.5146\n",
      "Epoch 25/30\n",
      "242/242 [==============================] - 0s 791us/step - loss: 0.4993 - val_loss: 0.5101\n",
      "Epoch 26/30\n",
      "242/242 [==============================] - 0s 782us/step - loss: 0.4946 - val_loss: 0.5049\n",
      "Epoch 27/30\n",
      "242/242 [==============================] - 0s 786us/step - loss: 0.4901 - val_loss: 0.5009\n",
      "Epoch 28/30\n",
      "242/242 [==============================] - 0s 803us/step - loss: 0.4862 - val_loss: 0.4972\n",
      "Epoch 29/30\n",
      "242/242 [==============================] - 0s 829us/step - loss: 0.4821 - val_loss: 0.4947\n",
      "Epoch 30/30\n",
      "242/242 [==============================] - 0s 739us/step - loss: 0.4789 - val_loss: 0.4909\n",
      "121/121 [==============================] - 0s 394us/step - loss: 0.4770\n",
      "[CV]  learning_rate=0.0006154014789262348, n_hidden=2, n_neurons=87, total=   6.0s\n",
      "[CV] learning_rate=0.0006154014789262348, n_hidden=2, n_neurons=87 ...\n",
      "Epoch 1/30\n",
      "  1/242 [..............................] - ETA: 0s - loss: 4.8003"
     ]
    },
    {
     "name": "stderr",
     "output_type": "stream",
     "text": [
      "[Parallel(n_jobs=1)]: Done   1 out of   1 | elapsed:    6.0s remaining:    0.0s\n"
     ]
    },
    {
     "name": "stdout",
     "output_type": "stream",
     "text": [
      "242/242 [==============================] - 0s 883us/step - loss: 2.5625 - val_loss: 1.2319\n",
      "Epoch 2/30\n",
      "242/242 [==============================] - 0s 729us/step - loss: 1.0054 - val_loss: 0.8641\n",
      "Epoch 3/30\n",
      "242/242 [==============================] - 0s 730us/step - loss: 0.7945 - val_loss: 0.7654\n",
      "Epoch 4/30\n",
      "242/242 [==============================] - 0s 725us/step - loss: 0.7257 - val_loss: 0.7273\n",
      "Epoch 5/30\n",
      "242/242 [==============================] - 0s 723us/step - loss: 0.6894 - val_loss: 0.7021\n",
      "Epoch 6/30\n",
      "242/242 [==============================] - 0s 723us/step - loss: 0.6629 - val_loss: 0.6810\n",
      "Epoch 7/30\n",
      "242/242 [==============================] - 0s 718us/step - loss: 0.6407 - val_loss: 0.6615\n",
      "Epoch 8/30\n",
      "242/242 [==============================] - 0s 719us/step - loss: 0.6215 - val_loss: 0.6450\n",
      "Epoch 9/30\n",
      "242/242 [==============================] - 0s 729us/step - loss: 0.6041 - val_loss: 0.6289\n",
      "Epoch 10/30\n",
      "242/242 [==============================] - 0s 728us/step - loss: 0.5889 - val_loss: 0.6153\n",
      "Epoch 11/30\n",
      "242/242 [==============================] - 0s 995us/step - loss: 0.5751 - val_loss: 0.6022\n",
      "Epoch 12/30\n",
      "242/242 [==============================] - 0s 743us/step - loss: 0.5621 - val_loss: 0.5901\n",
      "Epoch 13/30\n",
      "242/242 [==============================] - 0s 722us/step - loss: 0.5510 - val_loss: 0.5801\n",
      "Epoch 14/30\n",
      "242/242 [==============================] - 0s 906us/step - loss: 0.5406 - val_loss: 0.5702\n",
      "Epoch 15/30\n",
      "242/242 [==============================] - 0s 720us/step - loss: 0.5315 - val_loss: 0.5618\n",
      "Epoch 16/30\n",
      "242/242 [==============================] - 0s 820us/step - loss: 0.5231 - val_loss: 0.5535\n",
      "Epoch 17/30\n",
      "242/242 [==============================] - 0s 900us/step - loss: 0.5157 - val_loss: 0.5464\n",
      "Epoch 18/30\n",
      "242/242 [==============================] - 0s 719us/step - loss: 0.5086 - val_loss: 0.5398\n",
      "Epoch 19/30\n",
      "242/242 [==============================] - 0s 726us/step - loss: 0.5026 - val_loss: 0.5351\n",
      "Epoch 20/30\n",
      "242/242 [==============================] - 0s 724us/step - loss: 0.4969 - val_loss: 0.5283\n",
      "Epoch 21/30\n",
      "242/242 [==============================] - 0s 717us/step - loss: 0.4924 - val_loss: 0.5235\n",
      "Epoch 22/30\n",
      "242/242 [==============================] - 0s 722us/step - loss: 0.4871 - val_loss: 0.5179\n",
      "Epoch 23/30\n",
      "242/242 [==============================] - 0s 735us/step - loss: 0.4829 - val_loss: 0.5139\n",
      "Epoch 24/30\n",
      "242/242 [==============================] - 0s 715us/step - loss: 0.4787 - val_loss: 0.5096\n",
      "Epoch 25/30\n",
      "242/242 [==============================] - 0s 707us/step - loss: 0.4751 - val_loss: 0.5058\n",
      "Epoch 26/30\n",
      "242/242 [==============================] - 0s 722us/step - loss: 0.4715 - val_loss: 0.5026\n",
      "Epoch 27/30\n",
      "242/242 [==============================] - 0s 713us/step - loss: 0.4683 - val_loss: 0.4991\n",
      "Epoch 28/30\n",
      "242/242 [==============================] - 0s 743us/step - loss: 0.4651 - val_loss: 0.4959\n",
      "Epoch 29/30\n",
      "242/242 [==============================] - 0s 719us/step - loss: 0.4621 - val_loss: 0.4931\n",
      "Epoch 30/30\n",
      "242/242 [==============================] - 0s 728us/step - loss: 0.4593 - val_loss: 0.4903\n",
      "121/121 [==============================] - 0s 382us/step - loss: 0.4988\n",
      "[CV]  learning_rate=0.0006154014789262348, n_hidden=2, n_neurons=87, total=   5.7s\n",
      "[CV] learning_rate=0.0006154014789262348, n_hidden=2, n_neurons=87 ...\n",
      "Epoch 1/30\n",
      "242/242 [==============================] - 0s 894us/step - loss: 2.8812 - val_loss: 1.4705\n",
      "Epoch 2/30\n",
      "242/242 [==============================] - 0s 1ms/step - loss: 1.1111 - val_loss: 0.8959\n",
      "Epoch 3/30\n",
      "242/242 [==============================] - 0s 783us/step - loss: 0.8205 - val_loss: 0.7407\n",
      "Epoch 4/30\n",
      "242/242 [==============================] - 0s 720us/step - loss: 0.7264 - val_loss: 0.6891\n",
      "Epoch 5/30\n",
      "242/242 [==============================] - 0s 730us/step - loss: 0.6838 - val_loss: 0.6640\n",
      "Epoch 6/30\n",
      "242/242 [==============================] - 0s 721us/step - loss: 0.6571 - val_loss: 0.6459\n",
      "Epoch 7/30\n",
      "242/242 [==============================] - 0s 730us/step - loss: 0.6359 - val_loss: 0.6308\n",
      "Epoch 8/30\n",
      "242/242 [==============================] - 0s 727us/step - loss: 0.6182 - val_loss: 0.6160\n",
      "Epoch 9/30\n",
      "242/242 [==============================] - 0s 721us/step - loss: 0.6024 - val_loss: 0.6029\n",
      "Epoch 10/30\n",
      "242/242 [==============================] - 0s 716us/step - loss: 0.5880 - val_loss: 0.5906\n",
      "Epoch 11/30\n",
      "242/242 [==============================] - 0s 724us/step - loss: 0.5754 - val_loss: 0.5793\n",
      "Epoch 12/30\n",
      "242/242 [==============================] - 0s 705us/step - loss: 0.5633 - val_loss: 0.5690\n",
      "Epoch 13/30\n",
      "242/242 [==============================] - 0s 722us/step - loss: 0.5524 - val_loss: 0.5598\n",
      "Epoch 14/30\n",
      "242/242 [==============================] - 0s 731us/step - loss: 0.5425 - val_loss: 0.5507\n",
      "Epoch 15/30\n",
      "242/242 [==============================] - 0s 727us/step - loss: 0.5331 - val_loss: 0.5427\n",
      "Epoch 16/30\n",
      "242/242 [==============================] - 0s 716us/step - loss: 0.5249 - val_loss: 0.5353\n",
      "Epoch 17/30\n",
      "242/242 [==============================] - 0s 728us/step - loss: 0.5173 - val_loss: 0.5282\n",
      "Epoch 18/30\n",
      "242/242 [==============================] - 0s 720us/step - loss: 0.5098 - val_loss: 0.5221\n",
      "Epoch 19/30\n",
      "242/242 [==============================] - 0s 725us/step - loss: 0.5036 - val_loss: 0.5163\n",
      "Epoch 20/30\n",
      "242/242 [==============================] - 0s 721us/step - loss: 0.4975 - val_loss: 0.5118\n",
      "Epoch 21/30\n",
      "242/242 [==============================] - 0s 721us/step - loss: 0.4923 - val_loss: 0.5065\n",
      "Epoch 22/30\n",
      "242/242 [==============================] - 0s 723us/step - loss: 0.4871 - val_loss: 0.5019\n",
      "Epoch 23/30\n",
      "242/242 [==============================] - 0s 721us/step - loss: 0.4825 - val_loss: 0.4977\n",
      "Epoch 24/30\n",
      "242/242 [==============================] - 0s 729us/step - loss: 0.4779 - val_loss: 0.4947\n",
      "Epoch 25/30\n",
      "242/242 [==============================] - 0s 719us/step - loss: 0.4742 - val_loss: 0.4907\n",
      "Epoch 26/30\n",
      "242/242 [==============================] - 0s 720us/step - loss: 0.4706 - val_loss: 0.4873\n",
      "Epoch 27/30\n",
      "242/242 [==============================] - 0s 719us/step - loss: 0.4670 - val_loss: 0.4844\n",
      "Epoch 28/30\n",
      "242/242 [==============================] - 0s 715us/step - loss: 0.4640 - val_loss: 0.4814\n",
      "Epoch 29/30\n",
      "242/242 [==============================] - 0s 717us/step - loss: 0.4610 - val_loss: 0.4788\n",
      "Epoch 30/30\n",
      "242/242 [==============================] - 0s 725us/step - loss: 0.4582 - val_loss: 0.4762\n",
      "121/121 [==============================] - 0s 385us/step - loss: 0.4392\n",
      "[CV]  learning_rate=0.0006154014789262348, n_hidden=2, n_neurons=87, total=   5.6s\n",
      "[CV] learning_rate=0.0003920021771415983, n_hidden=3, n_neurons=24 ...\n",
      "Epoch 1/30\n",
      "242/242 [==============================] - 0s 933us/step - loss: 3.5379 - val_loss: 2.4616\n",
      "Epoch 2/30\n",
      "242/242 [==============================] - 0s 761us/step - loss: 1.9339 - val_loss: 1.8138\n",
      "Epoch 3/30\n",
      "242/242 [==============================] - 0s 773us/step - loss: 1.5223 - val_loss: 1.4211\n",
      "Epoch 4/30\n",
      "242/242 [==============================] - 0s 759us/step - loss: 1.2723 - val_loss: 1.1838\n",
      "Epoch 5/30\n",
      "242/242 [==============================] - 0s 772us/step - loss: 1.0973 - val_loss: 1.0295\n",
      "Epoch 6/30\n",
      "242/242 [==============================] - 0s 757us/step - loss: 0.9687 - val_loss: 0.9197\n",
      "Epoch 7/30\n",
      "242/242 [==============================] - 0s 777us/step - loss: 0.8730 - val_loss: 0.8403\n",
      "Epoch 8/30\n",
      "242/242 [==============================] - 0s 768us/step - loss: 0.8036 - val_loss: 0.7843\n",
      "Epoch 9/30\n",
      "242/242 [==============================] - 0s 772us/step - loss: 0.7543 - val_loss: 0.7445\n",
      "Epoch 10/30\n",
      "242/242 [==============================] - 0s 770us/step - loss: 0.7193 - val_loss: 0.7169\n",
      "Epoch 11/30\n",
      "242/242 [==============================] - 0s 755us/step - loss: 0.6938 - val_loss: 0.6968\n",
      "Epoch 12/30\n",
      "242/242 [==============================] - 0s 764us/step - loss: 0.6751 - val_loss: 0.6812\n",
      "Epoch 13/30\n",
      "242/242 [==============================] - 0s 769us/step - loss: 0.6605 - val_loss: 0.6688\n",
      "Epoch 14/30\n",
      "242/242 [==============================] - 0s 767us/step - loss: 0.6487 - val_loss: 0.6586\n",
      "Epoch 15/30\n",
      "242/242 [==============================] - 0s 761us/step - loss: 0.6386 - val_loss: 0.6499\n",
      "Epoch 16/30\n",
      "242/242 [==============================] - 0s 771us/step - loss: 0.6297 - val_loss: 0.6424\n",
      "Epoch 17/30\n",
      "242/242 [==============================] - 0s 770us/step - loss: 0.6217 - val_loss: 0.6346\n",
      "Epoch 18/30\n",
      "242/242 [==============================] - 0s 768us/step - loss: 0.6146 - val_loss: 0.6278\n",
      "Epoch 19/30\n",
      "242/242 [==============================] - 0s 760us/step - loss: 0.6077 - val_loss: 0.6230\n",
      "Epoch 20/30\n",
      "242/242 [==============================] - 0s 763us/step - loss: 0.6017 - val_loss: 0.6155\n",
      "Epoch 21/30\n",
      "242/242 [==============================] - 0s 1ms/step - loss: 0.5958 - val_loss: 0.6097\n",
      "Epoch 22/30\n",
      "242/242 [==============================] - 0s 761us/step - loss: 0.5902 - val_loss: 0.6044\n",
      "Epoch 23/30\n",
      "242/242 [==============================] - 0s 765us/step - loss: 0.5851 - val_loss: 0.5996\n",
      "Epoch 24/30\n",
      "242/242 [==============================] - 0s 755us/step - loss: 0.5799 - val_loss: 0.5947\n",
      "Epoch 25/30\n",
      "242/242 [==============================] - 0s 758us/step - loss: 0.5753 - val_loss: 0.5901\n",
      "Epoch 26/30\n",
      "242/242 [==============================] - 0s 963us/step - loss: 0.5708 - val_loss: 0.5852\n",
      "Epoch 27/30\n",
      "242/242 [==============================] - 0s 747us/step - loss: 0.5661 - val_loss: 0.5808\n",
      "Epoch 28/30\n",
      "242/242 [==============================] - 0s 758us/step - loss: 0.5621 - val_loss: 0.5767\n",
      "Epoch 29/30\n",
      "242/242 [==============================] - 0s 742us/step - loss: 0.5579 - val_loss: 0.5733\n",
      "Epoch 30/30\n",
      "242/242 [==============================] - 0s 751us/step - loss: 0.5542 - val_loss: 0.5691\n",
      "121/121 [==============================] - 0s 384us/step - loss: 0.5487\n",
      "[CV]  learning_rate=0.0003920021771415983, n_hidden=3, n_neurons=24, total=   6.0s\n",
      "[CV] learning_rate=0.0003920021771415983, n_hidden=3, n_neurons=24 ...\n",
      "Epoch 1/30\n",
      "242/242 [==============================] - 0s 942us/step - loss: 3.6844 - val_loss: 2.5255\n",
      "Epoch 2/30\n",
      "242/242 [==============================] - 0s 772us/step - loss: 1.8717 - val_loss: 1.5112\n",
      "Epoch 3/30\n",
      "242/242 [==============================] - 0s 767us/step - loss: 1.2972 - val_loss: 1.1559\n",
      "Epoch 4/30\n",
      "242/242 [==============================] - 0s 752us/step - loss: 1.0404 - val_loss: 0.9513\n",
      "Epoch 5/30\n",
      "242/242 [==============================] - 0s 776us/step - loss: 0.8780 - val_loss: 0.8214\n",
      "Epoch 6/30\n",
      "242/242 [==============================] - 0s 775us/step - loss: 0.7704 - val_loss: 0.7388\n",
      "Epoch 7/30\n",
      "242/242 [==============================] - 0s 761us/step - loss: 0.6996 - val_loss: 0.6872\n",
      "Epoch 8/30\n",
      "242/242 [==============================] - 0s 766us/step - loss: 0.6529 - val_loss: 0.6544\n",
      "Epoch 9/30\n",
      "242/242 [==============================] - 0s 765us/step - loss: 0.6214 - val_loss: 0.6324\n",
      "Epoch 10/30\n",
      "242/242 [==============================] - 0s 846us/step - loss: 0.5990 - val_loss: 0.6163\n",
      "Epoch 11/30\n",
      "242/242 [==============================] - 0s 1ms/step - loss: 0.5818 - val_loss: 0.6032\n",
      "Epoch 12/30\n",
      "242/242 [==============================] - 0s 739us/step - loss: 0.5674 - val_loss: 0.5917\n",
      "Epoch 13/30\n",
      "242/242 [==============================] - 0s 803us/step - loss: 0.5552 - val_loss: 0.5815\n",
      "Epoch 14/30\n",
      "242/242 [==============================] - 0s 990us/step - loss: 0.5442 - val_loss: 0.5721\n",
      "Epoch 15/30\n",
      "242/242 [==============================] - 0s 807us/step - loss: 0.5344 - val_loss: 0.5634\n",
      "Epoch 16/30\n",
      "242/242 [==============================] - 0s 907us/step - loss: 0.5255 - val_loss: 0.5552\n",
      "Epoch 17/30\n",
      "242/242 [==============================] - 0s 772us/step - loss: 0.5174 - val_loss: 0.5478\n",
      "Epoch 18/30\n",
      "242/242 [==============================] - 0s 936us/step - loss: 0.5099 - val_loss: 0.5410\n",
      "Epoch 19/30\n",
      "242/242 [==============================] - 0s 923us/step - loss: 0.5033 - val_loss: 0.5351\n",
      "Epoch 20/30\n",
      "242/242 [==============================] - 0s 773us/step - loss: 0.4973 - val_loss: 0.5291\n",
      "Epoch 21/30\n",
      "242/242 [==============================] - 0s 761us/step - loss: 0.4919 - val_loss: 0.5239\n",
      "Epoch 22/30\n",
      "242/242 [==============================] - 0s 942us/step - loss: 0.4868 - val_loss: 0.5190\n",
      "Epoch 23/30\n",
      "242/242 [==============================] - 0s 764us/step - loss: 0.4825 - val_loss: 0.5149\n",
      "Epoch 24/30\n",
      "242/242 [==============================] - 0s 848us/step - loss: 0.4783 - val_loss: 0.5110\n",
      "Epoch 25/30\n",
      "242/242 [==============================] - 0s 913us/step - loss: 0.4748 - val_loss: 0.5075\n",
      "Epoch 26/30\n",
      "242/242 [==============================] - 0s 776us/step - loss: 0.4715 - val_loss: 0.5045\n",
      "Epoch 27/30\n",
      "242/242 [==============================] - 0s 911us/step - loss: 0.4686 - val_loss: 0.5018\n",
      "Epoch 28/30\n",
      "242/242 [==============================] - 0s 779us/step - loss: 0.4659 - val_loss: 0.4993\n",
      "Epoch 29/30\n",
      "242/242 [==============================] - 0s 940us/step - loss: 0.4633 - val_loss: 0.4970\n",
      "Epoch 30/30\n",
      "242/242 [==============================] - 0s 744us/step - loss: 0.4610 - val_loss: 0.4948\n",
      "121/121 [==============================] - 0s 383us/step - loss: 0.5045\n",
      "[CV]  learning_rate=0.0003920021771415983, n_hidden=3, n_neurons=24, total=   6.3s\n",
      "[CV] learning_rate=0.0003920021771415983, n_hidden=3, n_neurons=24 ...\n",
      "Epoch 1/30\n",
      "242/242 [==============================] - 0s 1ms/step - loss: 3.1711 - val_loss: 1.9194\n",
      "Epoch 2/30\n",
      "242/242 [==============================] - 0s 934us/step - loss: 1.2920 - val_loss: 1.1488\n",
      "Epoch 3/30\n",
      "242/242 [==============================] - 0s 757us/step - loss: 0.9211 - val_loss: 0.8928\n",
      "Epoch 4/30\n",
      "242/242 [==============================] - 0s 903us/step - loss: 0.8037 - val_loss: 0.7795\n",
      "Epoch 5/30\n",
      "242/242 [==============================] - 0s 771us/step - loss: 0.7459 - val_loss: 0.7228\n",
      "Epoch 6/30\n",
      "242/242 [==============================] - 0s 875us/step - loss: 0.7105 - val_loss: 0.6921\n",
      "Epoch 7/30\n",
      "242/242 [==============================] - 0s 756us/step - loss: 0.6859 - val_loss: 0.6728\n",
      "Epoch 8/30\n",
      "242/242 [==============================] - 0s 908us/step - loss: 0.6672 - val_loss: 0.6581\n",
      "Epoch 9/30\n",
      "242/242 [==============================] - 0s 751us/step - loss: 0.6518 - val_loss: 0.6462\n",
      "Epoch 10/30\n",
      "242/242 [==============================] - 0s 911us/step - loss: 0.6380 - val_loss: 0.6360\n",
      "Epoch 11/30\n",
      "242/242 [==============================] - 0s 755us/step - loss: 0.6266 - val_loss: 0.6266\n",
      "Epoch 12/30\n",
      "242/242 [==============================] - 0s 759us/step - loss: 0.6161 - val_loss: 0.6181\n",
      "Epoch 13/30\n",
      "242/242 [==============================] - 0s 755us/step - loss: 0.6063 - val_loss: 0.6103\n",
      "Epoch 14/30\n",
      "242/242 [==============================] - 0s 764us/step - loss: 0.5974 - val_loss: 0.6025\n",
      "Epoch 15/30\n",
      "242/242 [==============================] - 0s 763us/step - loss: 0.5888 - val_loss: 0.5954\n",
      "Epoch 16/30\n",
      "242/242 [==============================] - 0s 812us/step - loss: 0.5809 - val_loss: 0.5885\n",
      "Epoch 17/30\n",
      "242/242 [==============================] - 0s 1ms/step - loss: 0.5734 - val_loss: 0.5820\n",
      "Epoch 18/30\n",
      "242/242 [==============================] - 0s 828us/step - loss: 0.5661 - val_loss: 0.5758\n",
      "Epoch 19/30\n",
      "242/242 [==============================] - 0s 745us/step - loss: 0.5593 - val_loss: 0.5701\n",
      "Epoch 20/30\n",
      "242/242 [==============================] - 0s 986us/step - loss: 0.5529 - val_loss: 0.5647\n",
      "Epoch 21/30\n",
      "242/242 [==============================] - 0s 789us/step - loss: 0.5467 - val_loss: 0.5593\n",
      "Epoch 22/30\n",
      "242/242 [==============================] - 0s 927us/step - loss: 0.5408 - val_loss: 0.5543\n",
      "Epoch 23/30\n",
      "242/242 [==============================] - 0s 755us/step - loss: 0.5352 - val_loss: 0.5494\n",
      "Epoch 24/30\n",
      "242/242 [==============================] - 0s 890us/step - loss: 0.5296 - val_loss: 0.5449\n",
      "Epoch 25/30\n",
      "242/242 [==============================] - 0s 777us/step - loss: 0.5245 - val_loss: 0.5403\n",
      "Epoch 26/30\n",
      "242/242 [==============================] - 0s 895us/step - loss: 0.5196 - val_loss: 0.5360\n",
      "Epoch 27/30\n",
      "242/242 [==============================] - 0s 777us/step - loss: 0.5150 - val_loss: 0.5317\n",
      "Epoch 28/30\n",
      "242/242 [==============================] - 0s 879us/step - loss: 0.5102 - val_loss: 0.5278\n",
      "Epoch 29/30\n",
      "242/242 [==============================] - 0s 808us/step - loss: 0.5060 - val_loss: 0.5238\n",
      "Epoch 30/30\n",
      "242/242 [==============================] - 0s 834us/step - loss: 0.5018 - val_loss: 0.5203\n"
     ]
    },
    {
     "name": "stdout",
     "output_type": "stream",
     "text": [
      "121/121 [==============================] - 0s 375us/step - loss: 0.4815\n",
      "[CV]  learning_rate=0.0003920021771415983, n_hidden=3, n_neurons=24, total=   6.4s\n"
     ]
    },
    {
     "name": "stderr",
     "output_type": "stream",
     "text": [
      "[Parallel(n_jobs=1)]: Done   6 out of   6 | elapsed:   36.1s finished\n"
     ]
    },
    {
     "ename": "RuntimeError",
     "evalue": "Cannot clone object <tensorflow.python.keras.wrappers.scikit_learn.KerasRegressor object at 0x7f48f436a670>, as the constructor either does not set or modifies parameter learning_rate",
     "output_type": "error",
     "traceback": [
      "\u001b[0;31m---------------------------------------------------------------------------\u001b[0m",
      "\u001b[0;31mRuntimeError\u001b[0m                              Traceback (most recent call last)",
      "\u001b[0;32m<ipython-input-119-00bb42d3e4cc>\u001b[0m in \u001b[0;36m<module>\u001b[0;34m\u001b[0m\n\u001b[1;32m      7\u001b[0m \u001b[0;34m\u001b[0m\u001b[0m\n\u001b[1;32m      8\u001b[0m \u001b[0mrnd_search_cv\u001b[0m \u001b[0;34m=\u001b[0m \u001b[0mRandomizedSearchCV\u001b[0m\u001b[0;34m(\u001b[0m\u001b[0mkeras_reg\u001b[0m\u001b[0;34m,\u001b[0m \u001b[0mparam_distribs\u001b[0m\u001b[0;34m,\u001b[0m \u001b[0mn_iter\u001b[0m\u001b[0;34m=\u001b[0m\u001b[0;36m2\u001b[0m\u001b[0;34m,\u001b[0m \u001b[0mcv\u001b[0m\u001b[0;34m=\u001b[0m\u001b[0;36m3\u001b[0m\u001b[0;34m,\u001b[0m \u001b[0mverbose\u001b[0m\u001b[0;34m=\u001b[0m\u001b[0;36m2\u001b[0m\u001b[0;34m)\u001b[0m\u001b[0;34m\u001b[0m\u001b[0;34m\u001b[0m\u001b[0m\n\u001b[0;32m----> 9\u001b[0;31m rnd_search_cv.fit(X_train, y_train, epochs=30, \n\u001b[0m\u001b[1;32m     10\u001b[0m                   \u001b[0mvalidation_data\u001b[0m\u001b[0;34m=\u001b[0m\u001b[0;34m(\u001b[0m\u001b[0mX_valid\u001b[0m\u001b[0;34m,\u001b[0m \u001b[0my_valid\u001b[0m\u001b[0;34m)\u001b[0m\u001b[0;34m,\u001b[0m\u001b[0;34m\u001b[0m\u001b[0;34m\u001b[0m\u001b[0m\n\u001b[1;32m     11\u001b[0m                   callbacks=[keras.callbacks.EarlyStopping(patience=1)])\n",
      "\u001b[0;32m~/ml/env/lib/python3.8/site-packages/sklearn/utils/validation.py\u001b[0m in \u001b[0;36minner_f\u001b[0;34m(*args, **kwargs)\u001b[0m\n\u001b[1;32m     70\u001b[0m                           FutureWarning)\n\u001b[1;32m     71\u001b[0m         \u001b[0mkwargs\u001b[0m\u001b[0;34m.\u001b[0m\u001b[0mupdate\u001b[0m\u001b[0;34m(\u001b[0m\u001b[0;34m{\u001b[0m\u001b[0mk\u001b[0m\u001b[0;34m:\u001b[0m \u001b[0marg\u001b[0m \u001b[0;32mfor\u001b[0m \u001b[0mk\u001b[0m\u001b[0;34m,\u001b[0m \u001b[0marg\u001b[0m \u001b[0;32min\u001b[0m \u001b[0mzip\u001b[0m\u001b[0;34m(\u001b[0m\u001b[0msig\u001b[0m\u001b[0;34m.\u001b[0m\u001b[0mparameters\u001b[0m\u001b[0;34m,\u001b[0m \u001b[0margs\u001b[0m\u001b[0;34m)\u001b[0m\u001b[0;34m}\u001b[0m\u001b[0;34m)\u001b[0m\u001b[0;34m\u001b[0m\u001b[0;34m\u001b[0m\u001b[0m\n\u001b[0;32m---> 72\u001b[0;31m         \u001b[0;32mreturn\u001b[0m \u001b[0mf\u001b[0m\u001b[0;34m(\u001b[0m\u001b[0;34m**\u001b[0m\u001b[0mkwargs\u001b[0m\u001b[0;34m)\u001b[0m\u001b[0;34m\u001b[0m\u001b[0;34m\u001b[0m\u001b[0m\n\u001b[0m\u001b[1;32m     73\u001b[0m     \u001b[0;32mreturn\u001b[0m \u001b[0minner_f\u001b[0m\u001b[0;34m\u001b[0m\u001b[0;34m\u001b[0m\u001b[0m\n\u001b[1;32m     74\u001b[0m \u001b[0;34m\u001b[0m\u001b[0m\n",
      "\u001b[0;32m~/ml/env/lib/python3.8/site-packages/sklearn/model_selection/_search.py\u001b[0m in \u001b[0;36mfit\u001b[0;34m(self, X, y, groups, **fit_params)\u001b[0m\n\u001b[1;32m    759\u001b[0m             \u001b[0;31m# we clone again after setting params in case some\u001b[0m\u001b[0;34m\u001b[0m\u001b[0;34m\u001b[0m\u001b[0;34m\u001b[0m\u001b[0m\n\u001b[1;32m    760\u001b[0m             \u001b[0;31m# of the params are estimators as well.\u001b[0m\u001b[0;34m\u001b[0m\u001b[0;34m\u001b[0m\u001b[0;34m\u001b[0m\u001b[0m\n\u001b[0;32m--> 761\u001b[0;31m             self.best_estimator_ = clone(clone(base_estimator).set_params(\n\u001b[0m\u001b[1;32m    762\u001b[0m                 **self.best_params_))\n\u001b[1;32m    763\u001b[0m             \u001b[0mrefit_start_time\u001b[0m \u001b[0;34m=\u001b[0m \u001b[0mtime\u001b[0m\u001b[0;34m.\u001b[0m\u001b[0mtime\u001b[0m\u001b[0;34m(\u001b[0m\u001b[0;34m)\u001b[0m\u001b[0;34m\u001b[0m\u001b[0;34m\u001b[0m\u001b[0m\n",
      "\u001b[0;32m~/ml/env/lib/python3.8/site-packages/sklearn/utils/validation.py\u001b[0m in \u001b[0;36minner_f\u001b[0;34m(*args, **kwargs)\u001b[0m\n\u001b[1;32m     70\u001b[0m                           FutureWarning)\n\u001b[1;32m     71\u001b[0m         \u001b[0mkwargs\u001b[0m\u001b[0;34m.\u001b[0m\u001b[0mupdate\u001b[0m\u001b[0;34m(\u001b[0m\u001b[0;34m{\u001b[0m\u001b[0mk\u001b[0m\u001b[0;34m:\u001b[0m \u001b[0marg\u001b[0m \u001b[0;32mfor\u001b[0m \u001b[0mk\u001b[0m\u001b[0;34m,\u001b[0m \u001b[0marg\u001b[0m \u001b[0;32min\u001b[0m \u001b[0mzip\u001b[0m\u001b[0;34m(\u001b[0m\u001b[0msig\u001b[0m\u001b[0;34m.\u001b[0m\u001b[0mparameters\u001b[0m\u001b[0;34m,\u001b[0m \u001b[0margs\u001b[0m\u001b[0;34m)\u001b[0m\u001b[0;34m}\u001b[0m\u001b[0;34m)\u001b[0m\u001b[0;34m\u001b[0m\u001b[0;34m\u001b[0m\u001b[0m\n\u001b[0;32m---> 72\u001b[0;31m         \u001b[0;32mreturn\u001b[0m \u001b[0mf\u001b[0m\u001b[0;34m(\u001b[0m\u001b[0;34m**\u001b[0m\u001b[0mkwargs\u001b[0m\u001b[0;34m)\u001b[0m\u001b[0;34m\u001b[0m\u001b[0;34m\u001b[0m\u001b[0m\n\u001b[0m\u001b[1;32m     73\u001b[0m     \u001b[0;32mreturn\u001b[0m \u001b[0minner_f\u001b[0m\u001b[0;34m\u001b[0m\u001b[0;34m\u001b[0m\u001b[0m\n\u001b[1;32m     74\u001b[0m \u001b[0;34m\u001b[0m\u001b[0m\n",
      "\u001b[0;32m~/ml/env/lib/python3.8/site-packages/sklearn/base.py\u001b[0m in \u001b[0;36mclone\u001b[0;34m(estimator, safe)\u001b[0m\n\u001b[1;32m     94\u001b[0m         \u001b[0mparam2\u001b[0m \u001b[0;34m=\u001b[0m \u001b[0mparams_set\u001b[0m\u001b[0;34m[\u001b[0m\u001b[0mname\u001b[0m\u001b[0;34m]\u001b[0m\u001b[0;34m\u001b[0m\u001b[0;34m\u001b[0m\u001b[0m\n\u001b[1;32m     95\u001b[0m         \u001b[0;32mif\u001b[0m \u001b[0mparam1\u001b[0m \u001b[0;32mis\u001b[0m \u001b[0;32mnot\u001b[0m \u001b[0mparam2\u001b[0m\u001b[0;34m:\u001b[0m\u001b[0;34m\u001b[0m\u001b[0;34m\u001b[0m\u001b[0m\n\u001b[0;32m---> 96\u001b[0;31m             raise RuntimeError('Cannot clone object %s, as the constructor '\n\u001b[0m\u001b[1;32m     97\u001b[0m                                \u001b[0;34m'either does not set or modifies parameter %s'\u001b[0m \u001b[0;34m%\u001b[0m\u001b[0;34m\u001b[0m\u001b[0;34m\u001b[0m\u001b[0m\n\u001b[1;32m     98\u001b[0m                                (estimator, name))\n",
      "\u001b[0;31mRuntimeError\u001b[0m: Cannot clone object <tensorflow.python.keras.wrappers.scikit_learn.KerasRegressor object at 0x7f48f436a670>, as the constructor either does not set or modifies parameter learning_rate"
     ]
    }
   ],
   "source": [
    "from scipy.stats import reciprocal\n",
    "from sklearn.model_selection import RandomizedSearchCV\n",
    "\n",
    "param_distribs = {\"n_hidden\": [0, 1, 2, 3],\n",
    "    \"n_neurons\": np.arange(1, 100),\n",
    "    \"learning_rate\": reciprocal(3e-4, 3e-2)}\n",
    "\n",
    "rnd_search_cv = RandomizedSearchCV(keras_reg, param_distribs, n_iter=2, cv=3, verbose=2)\n",
    "rnd_search_cv.fit(X_train, y_train, epochs=30, \n",
    "                  validation_data=(X_valid, y_valid), \n",
    "                  callbacks=[keras.callbacks.EarlyStopping(patience=1)])"
   ]
  },
  {
   "cell_type": "code",
   "execution_count": 120,
   "metadata": {},
   "outputs": [
    {
     "data": {
      "text/plain": [
       "{'learning_rate': 0.0006154014789262348, 'n_hidden': 2, 'n_neurons': 87}"
      ]
     },
     "execution_count": 120,
     "metadata": {},
     "output_type": "execute_result"
    }
   ],
   "source": [
    "rnd_search_cv.best_params_"
   ]
  },
  {
   "cell_type": "code",
   "execution_count": 121,
   "metadata": {},
   "outputs": [
    {
     "data": {
      "text/plain": [
       "-0.4716717302799225"
      ]
     },
     "execution_count": 121,
     "metadata": {},
     "output_type": "execute_result"
    }
   ],
   "source": [
    "rnd_search_cv.best_score_"
   ]
  }
 ],
 "metadata": {
  "kernelspec": {
   "display_name": "Python 3",
   "language": "python",
   "name": "python3"
  },
  "language_info": {
   "codemirror_mode": {
    "name": "ipython",
    "version": 3
   },
   "file_extension": ".py",
   "mimetype": "text/x-python",
   "name": "python",
   "nbconvert_exporter": "python",
   "pygments_lexer": "ipython3",
   "version": "3.8.5"
  }
 },
 "nbformat": 4,
 "nbformat_minor": 4
}
